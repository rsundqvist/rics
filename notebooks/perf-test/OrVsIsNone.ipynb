{
 "cells": [
  {
   "cell_type": "code",
   "execution_count": 1,
   "id": "33142693-c474-46a5-9091-635228705a62",
   "metadata": {
    "execution": {
     "iopub.execute_input": "2022-07-21T23:07:11.189741Z",
     "iopub.status.busy": "2022-07-21T23:07:11.186366Z",
     "iopub.status.idle": "2022-07-21T23:07:11.341018Z",
     "shell.execute_reply": "2022-07-21T23:07:11.338803Z",
     "shell.execute_reply.started": "2022-07-21T23:07:11.189660Z"
    },
    "tags": []
   },
   "outputs": [
    {
     "name": "stdout",
     "output_type": "stream",
     "text": [
      "rics.__version__='0.14.0'\n",
      "sys.version='3.9.12 (main, Jun  1 2022, 11:38:51) \\n[GCC 7.5.0]'\n",
      "\u001b[33me55e660\u001b[m\u001b[33m (\u001b[m\u001b[1;36mHEAD -> \u001b[m\u001b[1;32mmaster\u001b[m\u001b[33m, \u001b[m\u001b[1;31morigin/master\u001b[m\u001b[33m, \u001b[m\u001b[1;31morigin/HEAD\u001b[m\u001b[33m)\u001b[m Relax perftest condition\n"
     ]
    }
   ],
   "source": [
    "import sys\n",
    "\n",
    "import rics\n",
    "\n",
    "# Print relevant versions\n",
    "print(f\"{rics.__version__=}\")\n",
    "print(f\"{sys.version=}\")\n",
    "!git log --pretty=oneline --abbrev-commit -1"
   ]
  },
  {
   "cell_type": "markdown",
   "id": "93a678fb-4a20-4598-80cf-80d269c07d7f",
   "metadata": {},
   "source": [
    "# Select using `or` vs `is None` vs `if [bool]`\n",
    "Null dereferencing."
   ]
  },
  {
   "cell_type": "markdown",
   "id": "58a9c11e-2dbf-4015-bf60-2fca3f212e6b",
   "metadata": {
    "execution": {
     "iopub.execute_input": "2022-03-03T10:10:56.234978Z",
     "iopub.status.busy": "2022-03-03T10:10:56.234744Z",
     "iopub.status.idle": "2022-03-03T10:10:56.240364Z",
     "shell.execute_reply": "2022-03-03T10:10:56.239813Z",
     "shell.execute_reply.started": "2022-03-03T10:10:56.234954Z"
    }
   },
   "source": [
    "## Load data\n",
    "Load some representative data we need for testing (that doesn't change between test cases or candidates)."
   ]
  },
  {
   "cell_type": "code",
   "execution_count": 2,
   "id": "b44bfcee-98d3-4023-b13c-f4829cdd0963",
   "metadata": {
    "execution": {
     "iopub.execute_input": "2022-07-21T23:07:11.343538Z",
     "iopub.status.busy": "2022-07-21T23:07:11.343201Z",
     "iopub.status.idle": "2022-07-21T23:07:11.366511Z",
     "shell.execute_reply": "2022-07-21T23:07:11.364850Z",
     "shell.execute_reply.started": "2022-07-21T23:07:11.343511Z"
    },
    "tags": []
   },
   "outputs": [],
   "source": [
    "import random\n",
    "\n",
    "test_data = random.choices(\n",
    "    [\n",
    "        [1, 2, 3],\n",
    "        None,\n",
    "        # [],\n",
    "    ],\n",
    "    k=100_000,\n",
    ")"
   ]
  },
  {
   "cell_type": "markdown",
   "id": "a3470877-8315-4e06-8f7a-659aee949886",
   "metadata": {},
   "source": [
    "## Define the test procedure\n",
    "Define the test case we want to evaluate."
   ]
  },
  {
   "cell_type": "code",
   "execution_count": 3,
   "id": "d6c69687-5134-44e1-9769-64053e26361a",
   "metadata": {
    "execution": {
     "iopub.execute_input": "2022-07-21T23:07:11.367925Z",
     "iopub.status.busy": "2022-07-21T23:07:11.367476Z",
     "iopub.status.idle": "2022-07-21T23:07:11.376870Z",
     "shell.execute_reply": "2022-07-21T23:07:11.376046Z",
     "shell.execute_reply.started": "2022-07-21T23:07:11.367903Z"
    }
   },
   "outputs": [],
   "source": [
    "def run(func):\n",
    "    for arg in test_data:\n",
    "        func(arg)"
   ]
  },
  {
   "cell_type": "markdown",
   "id": "d4e061bb-61b4-4ce4-a98b-0171705ad113",
   "metadata": {
    "execution": {
     "iopub.execute_input": "2022-03-03T10:11:05.782014Z",
     "iopub.status.busy": "2022-03-03T10:11:05.781233Z",
     "iopub.status.idle": "2022-03-03T10:11:05.786275Z",
     "shell.execute_reply": "2022-03-03T10:11:05.784947Z",
     "shell.execute_reply.started": "2022-03-03T10:11:05.781984Z"
    }
   },
   "source": [
    "## Define candidates\n",
    "Define the functions or classes we're testing. Add to `candidates` list."
   ]
  },
  {
   "cell_type": "code",
   "execution_count": 4,
   "id": "3c160078-f1a3-4582-850e-9296c3975214",
   "metadata": {
    "execution": {
     "iopub.execute_input": "2022-07-21T23:07:11.379345Z",
     "iopub.status.busy": "2022-07-21T23:07:11.378190Z",
     "iopub.status.idle": "2022-07-21T23:07:11.389036Z",
     "shell.execute_reply": "2022-07-21T23:07:11.384734Z",
     "shell.execute_reply.started": "2022-07-21T23:07:11.379312Z"
    },
    "tags": []
   },
   "outputs": [],
   "source": [
    "fallback_value = [\"foo\", \"bar\"]\n",
    "\n",
    "\n",
    "def select_or(arg):\n",
    "    return arg or fallback_value\n",
    "\n",
    "\n",
    "def select_is_none(arg):\n",
    "    return fallback_value if arg is None else arg\n",
    "\n",
    "\n",
    "def select_bool(arg):\n",
    "    return arg if arg else fallback_value\n",
    "\n",
    "\n",
    "candidates = [select_or, select_is_none, select_bool]"
   ]
  },
  {
   "cell_type": "markdown",
   "id": "39ce893f-3c51-464f-a6df-4ea76f5280f3",
   "metadata": {},
   "source": [
    "## Sample output and verification\n",
    "Output sample result, make sure candidates outpat equivalent values."
   ]
  },
  {
   "cell_type": "code",
   "execution_count": 5,
   "id": "d6701d06-6c46-406d-89ae-2a0033413e5c",
   "metadata": {
    "execution": {
     "iopub.execute_input": "2022-07-21T23:07:11.390376Z",
     "iopub.status.busy": "2022-07-21T23:07:11.390051Z",
     "iopub.status.idle": "2022-07-21T23:07:11.402493Z",
     "shell.execute_reply": "2022-07-21T23:07:11.400750Z",
     "shell.execute_reply.started": "2022-07-21T23:07:11.390351Z"
    },
    "tags": []
   },
   "outputs": [
    {
     "name": "stdout",
     "output_type": "stream",
     "text": [
      "Reference output: ['foo', 'bar']\n"
     ]
    }
   ],
   "source": [
    "reference_output = candidates[0](test_data[0])\n",
    "assert reference_output is not None\n",
    "print(\"Reference output:\", reference_output)\n",
    "\n",
    "for cand in candidates[1:]:\n",
    "    cand_output = cand(test_data[0])\n",
    "    assert (\n",
    "        reference_output == cand_output\n",
    "    ), f\"Bad candidate: {cand}. {cand_output=} != {reference_output=}\""
   ]
  },
  {
   "cell_type": "markdown",
   "id": "d9a31c30-acf2-4890-b2d6-41fdde98adec",
   "metadata": {},
   "source": [
    "## Run performance comparison"
   ]
  },
  {
   "cell_type": "code",
   "execution_count": 6,
   "id": "70f6320f-ba73-4cb4-bbe7-0cf28d1e56ae",
   "metadata": {
    "execution": {
     "iopub.execute_input": "2022-07-21T23:07:11.404177Z",
     "iopub.status.busy": "2022-07-21T23:07:11.403910Z",
     "iopub.status.idle": "2022-07-21T23:07:12.978841Z",
     "shell.execute_reply": "2022-07-21T23:07:12.978267Z",
     "shell.execute_reply.started": "2022-07-21T23:07:11.404154Z"
    },
    "tags": []
   },
   "outputs": [],
   "source": [
    "from rics.utility.misc import tname"
   ]
  },
  {
   "cell_type": "code",
   "execution_count": 7,
   "id": "adb5bf6b-7f0b-42ac-a1c5-1ccfab7c49c0",
   "metadata": {
    "execution": {
     "iopub.execute_input": "2022-07-21T23:07:12.981396Z",
     "iopub.status.busy": "2022-07-21T23:07:12.980666Z",
     "iopub.status.idle": "2022-07-21T23:10:46.407012Z",
     "shell.execute_reply": "2022-07-21T23:10:46.405380Z",
     "shell.execute_reply.started": "2022-07-21T23:07:12.981371Z"
    },
    "tags": []
   },
   "outputs": [
    {
     "name": "stdout",
     "output_type": "stream",
     "text": [
      "select_or:\n",
      "6.44 ms ± 523 µs per loop (mean ± std. dev. of 100 runs, 100 loops each)\n",
      "================================================================================\n",
      "select_is_none:\n",
      "7.25 ms ± 1.61 ms per loop (mean ± std. dev. of 100 runs, 100 loops each)\n",
      "================================================================================\n",
      "select_bool:\n",
      "7.39 ms ± 1.56 ms per loop (mean ± std. dev. of 100 runs, 100 loops each)\n",
      "================================================================================\n"
     ]
    }
   ],
   "source": [
    "for cand in candidates:\n",
    "    print(f\"{tname(cand)}:\")\n",
    "    %timeit -r 100 -n 100 run(cand)\n",
    "    print(\"=\" * 80)"
   ]
  },
  {
   "cell_type": "markdown",
   "id": "e1b9464e-ac84-4184-8571-b19f51300c13",
   "metadata": {},
   "source": [
    "# Conclusion\n",
    "Use whatever is more readable."
   ]
  },
  {
   "cell_type": "code",
   "execution_count": null,
   "id": "c0c46af8-d46e-4f9b-8e37-579aa975e16f",
   "metadata": {},
   "outputs": [],
   "source": []
  }
 ],
 "metadata": {
  "kernelspec": {
   "display_name": "Python 3 (ipykernel)",
   "language": "python",
   "name": "python3"
  },
  "language_info": {
   "codemirror_mode": {
    "name": "ipython",
    "version": 3
   },
   "file_extension": ".py",
   "mimetype": "text/x-python",
   "name": "python",
   "nbconvert_exporter": "python",
   "pygments_lexer": "ipython3",
   "version": "3.10.6"
  }
 },
 "nbformat": 4,
 "nbformat_minor": 5
}
