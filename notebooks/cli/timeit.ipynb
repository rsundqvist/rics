{
 "cells": [
  {
   "cell_type": "markdown",
   "id": "3664107e-ea54-4df0-984e-9d41c8815520",
   "metadata": {},
   "source": [
    "# rics timeit\n",
    "Multivariate performance testing."
   ]
  },
  {
   "cell_type": "markdown",
   "id": "e8c552a1-adb9-45a7-be13-9857a682ea3c",
   "metadata": {
    "execution": {
     "iopub.execute_input": "2022-12-10T17:49:36.130146Z",
     "iopub.status.busy": "2022-12-10T17:49:36.129835Z",
     "iopub.status.idle": "2022-12-10T17:49:36.135366Z",
     "shell.execute_reply": "2022-12-10T17:49:36.134275Z",
     "shell.execute_reply.started": "2022-12-10T17:49:36.130122Z"
    }
   },
   "source": [
    "# Synopsis"
   ]
  },
  {
   "cell_type": "code",
   "execution_count": 1,
   "id": "de9874b4-8489-4854-b932-7f48edcedf8e",
   "metadata": {
    "execution": {
     "iopub.execute_input": "2025-05-19T19:13:58.975925Z",
     "iopub.status.busy": "2025-05-19T19:13:58.975721Z",
     "iopub.status.idle": "2025-05-19T19:13:59.973955Z",
     "shell.execute_reply": "2025-05-19T19:13:59.973230Z",
     "shell.execute_reply.started": "2025-05-19T19:13:58.975912Z"
    },
    "tags": []
   },
   "outputs": [
    {
     "name": "stdout",
     "output_type": "stream",
     "text": [
      "Usage: rics timeit [OPTIONS]\n",
      "\n",
      "  Multivariate performance testing.\n",
      "\n",
      "  This is the https://pypi.org/project/rics/ version of the python timeit\n",
      "  module. It may be used to run performance tests evaluating one or more\n",
      "  candidate functions ('candidates.py') on one or more different kinds of\n",
      "  inputs ('test_data.py').\n",
      "\n",
      "  This script will:\n",
      "      0. Create 'candidates.py' and 'test_data.py' (only if --create is set; will never overwrite).\n",
      "      1. Quickly evaluate each candidate on all test data \"a few times\".\n",
      "      2. Decide how many times to evaluate each candidate, such that the\n",
      "         --time-per-candidate argument is respected.\n",
      "      3. Print the best times per candidate/test_data\n",
      "         combination to stdout.\n",
      "      4. Save a performance overview figure to disk.\n",
      "      5. Save raw timing data to disk as CSV.\n",
      "\n",
      "  Required files:\n",
      "      candidates.py - Members starting with 'candidate_' are used as candidates.\n",
      "      test_data.py - Members starting with 'case_' are used as the case case data.\n",
      "\n",
      "  Hint: Define a 'ALL'-attributes in 'candidates' and 'test_data' to declare\n",
      "  explicit members to use.\n",
      "\n",
      "Options:\n",
      "  -t, --time-per-candidate FLOAT  Time in seconds to allocate to each\n",
      "                                  candidate function.  [default: 2.0]\n",
      "  -n, --name FILE                 Name to use for artifacts produced. Also\n",
      "                                  used as the figure title (stylized).\n",
      "                                  [default: performance.png]\n",
      "  --create / --no-create          Create files 'candidates.py' and\n",
      "                                  'test_data.py' and run a demo. Will not\n",
      "                                  overwrite existing files.  [default: no-\n",
      "                                  create]\n",
      "  --per-candidate / --no-per-candidate\n",
      "                                  Enable to print per-candidate best times.\n",
      "                                  Just shows the best overall per data if\n",
      "                                  disabled.  [default: per-candidate]\n",
      "  -y, --yes                       Automatic yes to prompts for things like\n",
      "                                  writing large (>100_000 rows) result files.\n",
      "  --help                          Show this message and exit.\n",
      "\n",
      "  The CLI does not support facets (rows and columns). Please use\n",
      "      https://rics.readthedocs.io/en/stable/api/rics.performance.html\n",
      "  if your test data should be categorized into subgroups.\n"
     ]
    }
   ],
   "source": [
    "!rics timeit --help"
   ]
  },
  {
   "cell_type": "markdown",
   "id": "fe501db4-c2ee-4130-a9a5-5c4243386eb5",
   "metadata": {},
   "source": [
    "# Example run\n",
    "Output when running ``mtimeit --create``. This flag may be used to initialize working dummy implementations of the required `candidates.py` and `test_data.py` modules."
   ]
  },
  {
   "cell_type": "code",
   "execution_count": 2,
   "id": "ab10302a-61ed-4d55-8cc0-af4880bc3573",
   "metadata": {
    "execution": {
     "iopub.execute_input": "2025-05-19T19:13:59.974477Z",
     "iopub.status.busy": "2025-05-19T19:13:59.974358Z",
     "iopub.status.idle": "2025-05-19T19:14:02.507280Z",
     "shell.execute_reply": "2025-05-19T19:14:02.506751Z",
     "shell.execute_reply.started": "2025-05-19T19:13:59.974459Z"
    },
    "tags": []
   },
   "outputs": [
    {
     "name": "stdout",
     "output_type": "stream",
     "text": [
      "========================= Begin Performance Evaluation =========================\n",
      "|                             'Create Example Run'                             |\n",
      "--------------------------------------------------------------------------------\n",
      "| Found 2 candidates and 2 data variants:                                      |\n",
      "|  -    Candidates: ['do_nothing', 'do_something']                             |\n",
      "|  - Data variants: ['small_array', 'big_array']                               |\n",
      "| Started: 2025-05-19 19:14:00, ETA: Monday 19, 19:14:00                       |\n",
      "================================================================================\n",
      "================================================================================\n",
      "|                                  Best Times                                  |\n",
      "|                             'Create Example Run'                             |\n",
      "================================================================================\n",
      "       Candidate  Run no    Time [s]    Test data   Time [ms]  Time [μs]   Time [ns]  Times min  Times mean\n",
      "6     do_nothing       1 2.91255e-08    big_array 2.91255e-05  0.0291255     29.1255          1 1.76045e-05\n",
      "4     do_nothing       4 2.91507e-08  small_array 2.91507e-05  0.0291507     29.1507          1    0.366268\n",
      "14  do_something       4 6.72857e-08  small_array 6.72857e-05  0.0672857     67.2857     2.3082    0.845421\n",
      "19  do_something       4  0.00294402    big_array     2.94402    2944.02 2.94402e+06     101081     1.77947\n",
      "================================================================================\n",
      "Figure saved: '/tmp/example/create-example-run.jpg'\n",
      "Data saved: '/tmp/example/create-example-run.csv'\n"
     ]
    }
   ],
   "source": [
    "%%sh\n",
    "mkdir /tmp/example\n",
    "cd /tmp/example/\n",
    "rics timeit --yes --create"
   ]
  },
  {
   "cell_type": "markdown",
   "id": "18810f8d-eec2-4e28-869d-dc9425667e5d",
   "metadata": {
    "execution": {
     "iopub.execute_input": "2022-12-10T17:54:15.378603Z",
     "iopub.status.busy": "2022-12-10T17:54:15.378287Z",
     "iopub.status.idle": "2022-12-10T17:54:15.383685Z",
     "shell.execute_reply": "2022-12-10T17:54:15.382824Z",
     "shell.execute_reply.started": "2022-12-10T17:54:15.378580Z"
    }
   },
   "source": [
    "# Generated files\n",
    "Contents of `/tmp/example`"
   ]
  },
  {
   "cell_type": "code",
   "execution_count": 3,
   "id": "e21091a5-a9fe-4e98-b8de-77912fb6d475",
   "metadata": {
    "execution": {
     "iopub.execute_input": "2025-05-19T19:14:02.508550Z",
     "iopub.status.busy": "2025-05-19T19:14:02.507796Z",
     "iopub.status.idle": "2025-05-19T19:14:02.619297Z",
     "shell.execute_reply": "2025-05-19T19:14:02.618411Z",
     "shell.execute_reply.started": "2025-05-19T19:14:02.508533Z"
    },
    "tags": []
   },
   "outputs": [
    {
     "name": "stdout",
     "output_type": "stream",
     "text": [
      "\u001b[01;34m/tmp/example/\u001b[0m\n",
      "├── candidates.py\n",
      "├── create-example-run.csv\n",
      "├── \u001b[01;35mcreate-example-run.jpg\u001b[0m\n",
      "├── \u001b[01;34m__pycache__\u001b[0m\n",
      "└── test_data.py\n",
      "\n",
      "2 directories, 4 files\n"
     ]
    }
   ],
   "source": [
    "!tree /tmp/example/ -L 1"
   ]
  },
  {
   "cell_type": "markdown",
   "id": "265887ed-eb81-4d32-9140-5756b809527d",
   "metadata": {},
   "source": [
    "## The `candidates.py` file\n",
    "This is the candidate functions file generated by the `--create` flag. "
   ]
  },
  {
   "cell_type": "code",
   "execution_count": 4,
   "id": "308313df-aced-4b4d-86e5-88c9db645b79",
   "metadata": {
    "execution": {
     "iopub.execute_input": "2025-05-19T19:14:02.623089Z",
     "iopub.status.busy": "2025-05-19T19:14:02.621193Z",
     "iopub.status.idle": "2025-05-19T19:14:02.832051Z",
     "shell.execute_reply": "2025-05-19T19:14:02.831086Z",
     "shell.execute_reply.started": "2025-05-19T19:14:02.623047Z"
    }
   },
   "outputs": [
    {
     "name": "stdout",
     "output_type": "stream",
     "text": [
      "\u001b[33m\"\"\"Module defining candidate functions.\u001b[39;49;00m\n",
      "\u001b[33m\u001b[39;49;00m\n",
      "\u001b[33mAny top-level members that start with `\"candidate_\"` will be automatically\u001b[39;49;00m\n",
      "\u001b[33mimported. These are assumed to be callable. The candidates will be evaluated\u001b[39;49;00m\n",
      "\u001b[33mfor all data defined in ``test_data.py``.\u001b[39;49;00m\n",
      "\u001b[33m\u001b[39;49;00m\n",
      "\u001b[33mAlternatively, you may define an \"`ALL`\" attribute of explicit members to use.\u001b[39;49;00m\n",
      "\u001b[33m\"\"\"\u001b[39;49;00m\u001b[37m\u001b[39;49;00m\n",
      "\u001b[37m\u001b[39;49;00m\n",
      "\u001b[37m\u001b[39;49;00m\n",
      "\u001b[34mdef\u001b[39;49;00m\u001b[37m \u001b[39;49;00m\u001b[32mcandidate_do_nothing\u001b[39;49;00m(data):\u001b[37m\u001b[39;49;00m\n",
      "    \u001b[34mpass\u001b[39;49;00m\u001b[37m\u001b[39;49;00m\n",
      "\u001b[37m\u001b[39;49;00m\n",
      "\u001b[37m\u001b[39;49;00m\n",
      "\u001b[34mdef\u001b[39;49;00m\u001b[37m \u001b[39;49;00m\u001b[32mcandidate_do_something\u001b[39;49;00m(data):\u001b[37m\u001b[39;49;00m\n",
      "    \u001b[36msum\u001b[39;49;00m(data)\u001b[37m\u001b[39;49;00m\n",
      "\u001b[37m\u001b[39;49;00m\n",
      "\u001b[37m\u001b[39;49;00m\n",
      "\u001b[34mdef\u001b[39;49;00m\u001b[37m \u001b[39;49;00m\u001b[32mcandidate_ignored_since_not_in_all\u001b[39;49;00m(data):\u001b[37m\u001b[39;49;00m\n",
      "    \u001b[34mpass\u001b[39;49;00m\u001b[37m\u001b[39;49;00m\n",
      "\u001b[37m\u001b[39;49;00m\n",
      "\u001b[37m\u001b[39;49;00m\n",
      "\u001b[37m# Explicit members to use. Use a dict to specify names manually.\u001b[39;49;00m\u001b[37m\u001b[39;49;00m\n",
      "ALL = [\u001b[37m\u001b[39;49;00m\n",
      "    candidate_do_nothing,\u001b[37m\u001b[39;49;00m\n",
      "    candidate_do_something,\u001b[37m\u001b[39;49;00m\n",
      "]\u001b[37m\u001b[39;49;00m\n"
     ]
    }
   ],
   "source": [
    "!pygmentize /tmp/example/candidates.py"
   ]
  },
  {
   "cell_type": "markdown",
   "id": "bcbd0707-34fd-4025-a5e2-ab4fb20e4cbb",
   "metadata": {
    "execution": {
     "iopub.execute_input": "2022-12-10T18:38:32.986552Z",
     "iopub.status.busy": "2022-12-10T18:38:32.986263Z",
     "iopub.status.idle": "2022-12-10T18:38:32.991825Z",
     "shell.execute_reply": "2022-12-10T18:38:32.991059Z",
     "shell.execute_reply.started": "2022-12-10T18:38:32.986526Z"
    }
   },
   "source": [
    "## The `test_data.py` file\n",
    "This is the data file generated by the `--create` flag. "
   ]
  },
  {
   "cell_type": "code",
   "execution_count": 5,
   "id": "d8296e42-56cf-4694-8e06-fd65a039af90",
   "metadata": {
    "execution": {
     "iopub.execute_input": "2025-05-19T19:14:02.832899Z",
     "iopub.status.busy": "2025-05-19T19:14:02.832729Z",
     "iopub.status.idle": "2025-05-19T19:14:03.047548Z",
     "shell.execute_reply": "2025-05-19T19:14:03.046855Z",
     "shell.execute_reply.started": "2025-05-19T19:14:02.832880Z"
    }
   },
   "outputs": [
    {
     "name": "stdout",
     "output_type": "stream",
     "text": [
      "\u001b[33m\"\"\"Module defining test data.\u001b[39;49;00m\n",
      "\u001b[33m\u001b[39;49;00m\n",
      "\u001b[33mAny top-level members that start with `\"data_\"` will be automatically imported\u001b[39;49;00m\n",
      "\u001b[33mand used on all candidates as defined by ``candidates.py``\u001b[39;49;00m\n",
      "\u001b[33m\u001b[39;49;00m\n",
      "\u001b[33mAlternatively, you may define an \"`ALL`\" attribute of explicit members to use.\u001b[39;49;00m\n",
      "\u001b[33m\"\"\"\u001b[39;49;00m\u001b[37m\u001b[39;49;00m\n",
      "\u001b[37m\u001b[39;49;00m\n",
      "data_small_array = [\u001b[34m0\u001b[39;49;00m]\u001b[37m\u001b[39;49;00m\n",
      "data_big_array = \u001b[36mlist\u001b[39;49;00m(\u001b[36mrange\u001b[39;49;00m(\u001b[34m10\u001b[39;49;00m**\u001b[34m6\u001b[39;49;00m))\u001b[37m\u001b[39;49;00m\n",
      "data_ignored_since_not_in_ALL = \u001b[34m0\u001b[39;49;00m\u001b[37m\u001b[39;49;00m\n",
      "\u001b[37m\u001b[39;49;00m\n",
      "\u001b[37m# Explicit members to use.\u001b[39;49;00m\u001b[37m\u001b[39;49;00m\n",
      "ALL = {\u001b[37m\u001b[39;49;00m\n",
      "    \u001b[33m\"\u001b[39;49;00m\u001b[33msmall_array\u001b[39;49;00m\u001b[33m\"\u001b[39;49;00m: data_small_array,\u001b[37m\u001b[39;49;00m\n",
      "    \u001b[33m\"\u001b[39;49;00m\u001b[33mbig_array\u001b[39;49;00m\u001b[33m\"\u001b[39;49;00m: data_big_array,\u001b[37m\u001b[39;49;00m\n",
      "}\u001b[37m\u001b[39;49;00m\n"
     ]
    }
   ],
   "source": [
    "!pygmentize /tmp/example/test_data.py"
   ]
  },
  {
   "cell_type": "code",
   "execution_count": null,
   "id": "f5e88429-d345-4f37-ae03-d03148e7fbf9",
   "metadata": {},
   "outputs": [],
   "source": []
  }
 ],
 "metadata": {
  "kernelspec": {
   "display_name": "rics-py3.11 [poetry]",
   "language": "python",
   "name": "rics.jupyter.rics-py3.11"
  },
  "language_info": {
   "codemirror_mode": {
    "name": "ipython",
    "version": 3
   },
   "file_extension": ".py",
   "mimetype": "text/x-python",
   "name": "python",
   "nbconvert_exporter": "python",
   "pygments_lexer": "ipython3",
   "version": "3.11.12"
  }
 },
 "nbformat": 4,
 "nbformat_minor": 5
}
