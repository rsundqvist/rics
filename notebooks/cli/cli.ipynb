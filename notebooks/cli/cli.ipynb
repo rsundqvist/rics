{
 "cells": [
  {
   "cell_type": "markdown",
   "id": "3664107e-ea54-4df0-984e-9d41c8815520",
   "metadata": {},
   "source": [
    "# rics\n",
    "My little CLI program."
   ]
  },
  {
   "cell_type": "markdown",
   "id": "e8c552a1-adb9-45a7-be13-9857a682ea3c",
   "metadata": {
    "execution": {
     "iopub.execute_input": "2022-12-10T17:49:36.130146Z",
     "iopub.status.busy": "2022-12-10T17:49:36.129835Z",
     "iopub.status.idle": "2022-12-10T17:49:36.135366Z",
     "shell.execute_reply": "2022-12-10T17:49:36.134275Z",
     "shell.execute_reply.started": "2022-12-10T17:49:36.130122Z"
    }
   },
   "source": [
    "# Synopsis"
   ]
  },
  {
   "cell_type": "code",
   "execution_count": 1,
   "id": "de9874b4-8489-4854-b932-7f48edcedf8e",
   "metadata": {
    "ExecuteTime": {
     "end_time": "2025-04-30T17:13:18.275185Z",
     "start_time": "2025-04-30T17:13:16.700400Z"
    },
    "execution": {
     "iopub.execute_input": "2025-05-11T09:52:53.056149Z",
     "iopub.status.busy": "2025-05-11T09:52:53.056007Z",
     "iopub.status.idle": "2025-05-11T09:52:53.575495Z",
     "shell.execute_reply": "2025-05-11T09:52:53.574921Z",
     "shell.execute_reply.started": "2025-05-11T09:52:53.056136Z"
    },
    "tags": []
   },
   "outputs": [
    {
     "name": "stdout",
     "output_type": "stream",
     "text": [
      "Usage: rics [OPTIONS] COMMAND [ARGS]...\n",
      "\n",
      "  👻 RiCS: My little CLI program.\n",
      "\n",
      "Options:\n",
      "  -v, --verbose  Controls application logging to stderr.\n",
      "                 \n",
      "                 Verbosity levels:\n",
      "                   0 = Logging disabled (default).\n",
      "                   1 = rics: INFO (20)\n",
      "                   2 = root: INFO (20)\n",
      "                   3 = rics: DEBUG (10)\n",
      "                   4 = root: DEBUG (10)\n",
      "                 Repeat up to 4 times for increased verbosity.  [env var: RICS_VERBOSE]\n",
      "  --help         Show this message and exit.\n",
      "\n",
      "Commands:\n",
      "  repos   Get licenced GitHub repositories with releases.\n",
      "  timeit  Run a multivariate performance test.\n",
      "  vc      Verify commits.\n",
      "\n",
      "  Python package documentation:\n",
      "      https://id-translation.readthedocs.io/\n",
      "      https://time-split.readthedocs.io/\n",
      "      https://rics.readthedocs.io/\n",
      "  Please let me know if any of these resources helped you!\n"
     ]
    }
   ],
   "source": [
    "!rics --help"
   ]
  },
  {
   "cell_type": "markdown",
   "id": "e044aa48-d954-485e-a78b-e7a4b1d8b15f",
   "metadata": {},
   "source": [
    "# The `verbosity` flag\n",
    "You may repeat the `-v` flag up to four times, increasing *logging* output. Regular prints (to `stdout`) are not controlled this way.\n",
    "\n",
    "Log messages are sent to to `stderr`. By default, no log messages are shown. Logging is configured using the\n",
    "[@logging_verbosity_option](https://rics.readthedocs.io/en/stable/api/rics.click.html#rics.click.logging_verbosity_option) decorator."
   ]
  },
  {
   "cell_type": "code",
   "execution_count": 2,
   "id": "de22e07d-dc68-42ea-90cb-163d95fa5176",
   "metadata": {
    "ExecuteTime": {
     "end_time": "2025-04-30T17:13:21.684698Z",
     "start_time": "2025-04-30T17:13:18.292536Z"
    },
    "execution": {
     "iopub.execute_input": "2025-05-11T09:52:53.576311Z",
     "iopub.status.busy": "2025-05-11T09:52:53.576146Z",
     "iopub.status.idle": "2025-05-11T09:52:56.427867Z",
     "shell.execute_reply": "2025-05-11T09:52:56.426869Z",
     "shell.execute_reply.started": "2025-05-11T09:52:53.576295Z"
    }
   },
   "outputs": [
    {
     "name": "stdout",
     "output_type": "stream",
     "text": [
      "2025-05-11T09:52:54.577 [rics.repos:INFO] Found 43 repo(s) for 1 user(s): 'astral-sh'.\n",
      "2025-05-11T09:52:56.241 [rics.repos:INFO] Processed 13/43 matching repos in 2.1s.\n",
      "\u001b[32m                                  Release tag            Last push  Stars  Issues                                                   Description                                                  Link      License    Created\n",
      "Repo name                                                                                                                                                                                                                    \n",
      "astral-sh/ruff                         0.11.9 2025-05-11T09:40:06Z  38716    1404  An extremely fast Python linter and code formatter, written                      https://github.com/astral-sh/ruff          MIT 2022-08-09\n",
      "astral-sh/ruff-action                  v3.3.1 2025-05-11T08:20:30Z    142       7                                   A GitHub Action to run Ruff              https://github.com/astral-sh/ruff-action   Apache-2.0 2024-09-29\n",
      "astral-sh/uv                            0.7.3 2025-05-11T02:55:59Z  53492    1739  An extremely fast Python package and project manager, writte                       https://github.com/astral-sh/uv   Apache-2.0 2023-10-02\n",
      "astral-sh/python-build-standalone    20250409 2025-05-09T20:19:28Z   2961     129                      Produce redistributable builds of Python  https://github.com/astral-sh/python-build-standalone      MPL-2.0 2018-12-18\n",
      "astral-sh/ruff-pre-commit             v0.11.9 2025-05-09T16:25:34Z   1273      22                                   A pre-commit hook for Ruff.          https://github.com/astral-sh/ruff-pre-commit   Apache-2.0 2022-09-20\n",
      "astral-sh/setup-uv                     v6.0.1 2025-05-09T10:58:05Z    398      12  Set up your GitHub Actions workflow with a specific version                  https://github.com/astral-sh/setup-uv          MIT 2024-08-23\n",
      "astral-sh/rye                          0.44.0 2025-05-08T00:28:11Z  14187     332                               a Hassle-Free Python Experience                      https://github.com/astral-sh/rye          MIT 2023-04-22\n",
      "astral-sh/uv-pre-commit                 0.7.3 2025-05-07T20:05:48Z    182      21                                                          None            https://github.com/astral-sh/uv-pre-commit   Apache-2.0 2024-03-22\n",
      "astral-sh/cargo-dist                  v0.28.5 2025-05-06T20:16:05Z     37      11                             📦 shippable application packaging               https://github.com/astral-sh/cargo-dist   Apache-2.0 2025-04-03\n",
      "astral-sh/ruff-vscode               2025.22.0 2025-05-06T01:13:01Z   1352      63  A Visual Studio Code extension with support for the Ruff lin              https://github.com/astral-sh/ruff-vscode  NOASSERTION 2022-11-08\n",
      "astral-sh/packse                       0.3.46 2025-03-27T20:11:10Z    117       9                                    Python packaging scenarios                   https://github.com/astral-sh/packse   Apache-2.0 2023-12-13\n",
      "astral-sh/tokio-tar                    v0.5.2 2025-03-18T02:24:44Z     25       3        A tar archive reading/writing library for async Rust.                 https://github.com/astral-sh/tokio-tar   Apache-2.0 2024-12-09\n",
      "astral-sh/ruff-lsp                    v0.0.62 2025-02-10T13:17:59Z   1445      30           A Language Server Protocol implementation for Ruff.                 https://github.com/astral-sh/ruff-lsp  NOASSERTION 2022-12-17\u001b[0m\n"
     ]
    }
   ],
   "source": [
    "!rics -v repos -u astral-sh"
   ]
  },
  {
   "cell_type": "markdown",
   "id": "67a2a943-be9a-4fd5-b4e8-2b30bdbdc928",
   "metadata": {
    "execution": {
     "iopub.execute_input": "2025-04-01T21:00:46.056686Z",
     "iopub.status.busy": "2025-04-01T21:00:46.056511Z",
     "iopub.status.idle": "2025-04-01T21:00:46.063259Z",
     "shell.execute_reply": "2025-04-01T21:00:46.062625Z",
     "shell.execute_reply.started": "2025-04-01T21:00:46.056667Z"
    }
   },
   "source": [
    "# Environment variables\n",
    "Environment variables may be used to set argument defaults. These follow the form:\n",
    "\n",
    "```python\n",
    "RICS_<COMMAND>_<ARGUMENT>=<value>\n",
    "```\n",
    "\n",
    "Explicit arguments take precedence; passing `-vvv` overrides the fallback value of `RICS_VERBOSE=1` (which is equivalent to a single `-v`)."
   ]
  },
  {
   "cell_type": "code",
   "execution_count": 3,
   "id": "bb5aeef2-cdb4-41f5-a3bb-dcdb69913bea",
   "metadata": {
    "ExecuteTime": {
     "end_time": "2025-04-30T17:13:23.336345Z",
     "start_time": "2025-04-30T17:13:22.033827Z"
    },
    "execution": {
     "iopub.execute_input": "2025-05-11T09:52:56.428748Z",
     "iopub.status.busy": "2025-05-11T09:52:56.428586Z",
     "iopub.status.idle": "2025-05-11T09:52:56.969564Z",
     "shell.execute_reply": "2025-05-11T09:52:56.968957Z",
     "shell.execute_reply.started": "2025-05-11T09:52:56.428732Z"
    }
   },
   "outputs": [
    {
     "name": "stdout",
     "output_type": "stream",
     "text": [
      "Usage: rics repos [OPTIONS]\n",
      "\n",
      "  Get licenced GitHub repositories with releases.\n",
      "\n",
      "Options:\n",
      "  -u, --user TEXT                 User or organization on GitHub.  [default:\n",
      "                                  rsundqvist]\n",
      "  -d, --max-days INTEGER RANGE    Max days since the last push.  [x>=0]\n",
      "  --sort [created|name|push|stars]\n",
      "                                  Column to sort on.  [default: push]\n",
      "  --max-width INTEGER             Maximum width for the 'Description' column.\n",
      "                                  Zero=no limit.\n",
      "  --help                          Show this message and exit.\n"
     ]
    }
   ],
   "source": [
    "!rics repos --help"
   ]
  },
  {
   "cell_type": "code",
   "execution_count": 4,
   "id": "2c386ed9-0ffe-4b60-8864-e59d84c10ab9",
   "metadata": {
    "ExecuteTime": {
     "end_time": "2025-04-30T17:13:23.466031Z",
     "start_time": "2025-04-30T17:13:23.460745Z"
    },
    "execution": {
     "iopub.execute_input": "2025-05-11T09:52:56.970436Z",
     "iopub.status.busy": "2025-05-11T09:52:56.970292Z",
     "iopub.status.idle": "2025-05-11T09:52:56.975891Z",
     "shell.execute_reply": "2025-05-11T09:52:56.975168Z",
     "shell.execute_reply.started": "2025-05-11T09:52:56.970421Z"
    }
   },
   "outputs": [
    {
     "name": "stdout",
     "output_type": "stream",
     "text": [
      "env: RICS_VERBOSE=1\n",
      "env: RICS_REPOS_USER=astral-sh pallets\n"
     ]
    }
   ],
   "source": [
    "%env RICS_VERBOSE=1\n",
    "%env RICS_REPOS_USER=astral-sh pallets"
   ]
  },
  {
   "cell_type": "code",
   "execution_count": 5,
   "id": "b1a69664-304b-4861-abd0-8c240b24c778",
   "metadata": {
    "ExecuteTime": {
     "end_time": "2025-04-30T17:13:26.008983Z",
     "start_time": "2025-04-30T17:13:23.833008Z"
    },
    "execution": {
     "iopub.execute_input": "2025-05-11T09:52:56.976743Z",
     "iopub.status.busy": "2025-05-11T09:52:56.976486Z",
     "iopub.status.idle": "2025-05-11T09:53:01.316992Z",
     "shell.execute_reply": "2025-05-11T09:53:01.316424Z",
     "shell.execute_reply.started": "2025-05-11T09:52:56.976731Z"
    }
   },
   "outputs": [
    {
     "name": "stdout",
     "output_type": "stream",
     "text": [
      "2025-05-11T09:52:57.476 [rics.repos:DEBUG] Found GitHub auth token: '/home/dev/.rics/github-token'.\n",
      "2025-05-11T09:52:58.054 [rics.repos:DEBUG] Halt user='astral-sh' at page=1; query returned 43 repos < per_page=100.\n",
      "2025-05-11T09:52:58.054 [rics.repos:DEBUG] Found 43 repo(s) for user 1/2: 'astral-sh'.\n",
      "2025-05-11T09:52:58.388 [rics.repos:DEBUG] Halt user='pallets' at page=1; query returned 17 repos < per_page=100.\n",
      "2025-05-11T09:52:58.388 [rics.repos:DEBUG] Found 17 repo(s) for user 2/2: 'pallets'.\n",
      "2025-05-11T09:52:58.388 [rics.repos:INFO] Found 60 repo(s) for 2 user(s): 'astral-sh', 'pallets'.\n",
      "2025-05-11T09:52:58.388 [rics.repos:DEBUG] Skip repo='astral-sh/.github': no licence.\n",
      "2025-05-11T09:52:58.749 [rics.repos:DEBUG] Skip repo='astral-sh/archive-in-git-test': no releases.\n",
      "2025-05-11T09:52:58.750 [rics.repos:DEBUG] Skip repo='astral-sh/pypi-proxy': no licence.\n",
      "2025-05-11T09:52:58.758 [rics.repos:DEBUG] Skip repo='astral-sh/mypy_primer': no releases.\n",
      "2025-05-11T09:52:58.770 [rics.repos:DEBUG] Skip repo='astral-sh/nginx_pypi_cache': no releases.\n",
      "2025-05-11T09:52:58.779 [rics.repos:DEBUG] Skip repo='astral-sh/pubgrub': no releases.\n",
      "2025-05-11T09:52:58.780 [rics.repos:DEBUG] Skip repo='astral-sh/lsp-types': no releases.\n",
      "2025-05-11T09:52:58.783 [rics.repos:DEBUG] Skip repo='astral-sh/docs': no releases.\n",
      "2025-05-11T09:52:59.111 [rics.repos:DEBUG] Skip repo='astral-sh/reqwest-middleware': no releases.\n",
      "2025-05-11T09:52:59.125 [rics.repos:DEBUG] Skip repo='astral-sh/sanitize-wheel-test': no licence.\n",
      "2025-05-11T09:52:59.206 [rics.repos:DEBUG] Skip repo='astral-sh/ruff-issue-template-test': no releases.\n",
      "2025-05-11T09:52:59.513 [rics.repos:DEBUG] Skip repo='astral-sh/trusted-publishing-examples': no licence.\n",
      "2025-05-11T09:52:59.521 [rics.repos:DEBUG] Skip repo='astral-sh/tl': no releases.\n",
      "2025-05-11T09:52:59.524 [rics.repos:DEBUG] Skip repo='astral-sh/RustPython': no releases.\n",
      "2025-05-11T09:52:59.526 [rics.repos:DEBUG] Skip repo='astral-sh/schemastore': no releases.\n",
      "2025-05-11T09:52:59.527 [rics.repos:DEBUG] Skip repo='astral-sh/RustPython-Parser': no releases.\n",
      "2025-05-11T09:52:59.566 [rics.repos:DEBUG] Skip repo='astral-sh/uv-docker-example': no licence.\n",
      "2025-05-11T09:52:59.833 [rics.repos:DEBUG] Skip repo='astral-sh/ty': no releases.\n",
      "2025-05-11T09:52:59.833 [rics.repos:DEBUG] Skip repo='astral-sh/uv-flask-example': no licence.\n",
      "2025-05-11T09:52:59.872 [rics.repos:DEBUG] Skip repo='astral-sh/ty-vscode': no releases.\n",
      "2025-05-11T09:52:59.877 [rics.repos:DEBUG] Skip repo='astral-sh/uv-dynamic-metadata-test': no releases.\n",
      "2025-05-11T09:52:59.877 [rics.repos:DEBUG] Skip repo='astral-sh/uv-stale-egg-info-test': no licence.\n",
      "2025-05-11T09:52:59.878 [rics.repos:DEBUG] Skip repo='astral-sh/workspace-in-root-test': no licence.\n",
      "2025-05-11T09:52:59.878 [rics.repos:DEBUG] Skip repo='astral-sh/workspace-virtual-root-test': no licence.\n",
      "2025-05-11T09:52:59.878 [rics.repos:DEBUG] Skip repo='astral-sh/workspace-with-root-dependency-test': no licence.\n",
      "2025-05-11T09:52:59.878 [rics.repos:DEBUG] Skip repo='pallets/.github': no licence.\n",
      "2025-05-11T09:52:59.882 [rics.repos:DEBUG] Skip repo='astral-sh/transformers': no releases.\n",
      "2025-05-11T09:52:59.892 [rics.repos:DEBUG] Skip repo='astral-sh/uv-backwards-path-test': no releases.\n",
      "2025-05-11T09:52:59.909 [rics.repos:DEBUG] Skip repo='astral-sh/uv-aws-lambda-example': no releases.\n",
      "2025-05-11T09:53:00.085 [rics.repos:DEBUG] Skip repo='astral-sh/uv-fastapi-example': no releases.\n",
      "2025-05-11T09:53:00.142 [rics.repos:DEBUG] Skip repo='astral-sh/uv-path-dependency-test': no releases.\n",
      "2025-05-11T09:53:00.195 [rics.repos:DEBUG] Skip repo='pallets/actions': no releases.\n",
      "2025-05-11T09:53:00.258 [rics.repos:DEBUG] Skip repo='pallets/flask-docs': no releases.\n",
      "2025-05-11T09:53:00.385 [rics.repos:DEBUG] Skip repo='pallets/flask-sphinx-themes': no releases.\n",
      "2025-05-11T09:53:00.386 [rics.repos:DEBUG] Skip repo='pallets/website-2016': no licence.\n",
      "2025-05-11T09:53:00.490 [rics.repos:DEBUG] Skip repo='pallets/werkzeug-website': no licence.\n",
      "2025-05-11T09:53:00.500 [rics.repos:DEBUG] Skip repo='pallets/flask-website': no releases.\n",
      "2025-05-11T09:53:01.078 [rics.repos:DEBUG] Skip repo='pallets/website': no releases.\n",
      "2025-05-11T09:53:01.079 [rics.repos:INFO] Processed 22/60 matching repos in 3.6s.\n",
      "\u001b[32m                                  Release tag            Last push  Stars  Issues                                                   Description                                                  Link       License    Created\n",
      "Repo name                                                                                                                                                                                                                     \n",
      "pallets/flask                           3.1.0 2025-03-30T20:17:35Z  69505       7     The Python micro framework for building web applications.                      https://github.com/pallets/flask  BSD-3-Clause 2010-04-06\n",
      "astral-sh/uv                            0.7.3 2025-05-11T02:55:59Z  53492    1739  An extremely fast Python package and project manager, writte                       https://github.com/astral-sh/uv    Apache-2.0 2023-10-02\n",
      "astral-sh/ruff                         0.11.9 2025-05-11T09:40:06Z  38716    1404  An extremely fast Python linter and code formatter, written                      https://github.com/astral-sh/ruff           MIT 2022-08-09\n",
      "pallets/click                           8.2.0 2025-05-10T22:22:42Z  16338     121              Python composable command line interface toolkit                      https://github.com/pallets/click  BSD-3-Clause 2014-04-24\n",
      "astral-sh/rye                          0.44.0 2025-05-08T00:28:11Z  14187     332                               a Hassle-Free Python Experience                      https://github.com/astral-sh/rye           MIT 2023-04-22\n",
      "pallets/jinja                           3.1.6 2025-03-05T20:15:47Z  10830      82                   A very fast and expressive template engine.                      https://github.com/pallets/jinja  BSD-3-Clause 2010-10-17\n",
      "pallets/werkzeug                        3.1.3 2025-04-18T20:12:06Z   6749      16               The comprehensive WSGI web application library.                   https://github.com/pallets/werkzeug  BSD-3-Clause 2010-10-18\n",
      "pallets/quart                          0.20.0 2024-12-24T20:19:23Z   3280      54  An async Python micro framework for building web application                      https://github.com/pallets/quart           MIT 2017-11-10\n",
      "pallets/itsdangerous                    2.2.0 2025-01-14T21:45:38Z   3002       1  Safely pass trusted data to untrusted environments and back.               https://github.com/pallets/itsdangerous  BSD-3-Clause 2011-06-24\n",
      "astral-sh/python-build-standalone    20250409 2025-05-09T20:19:28Z   2961     129                      Produce redistributable builds of Python  https://github.com/astral-sh/python-build-standalone       MPL-2.0 2018-12-18\n",
      "astral-sh/ruff-lsp                    v0.0.62 2025-02-10T13:17:59Z   1445      30           A Language Server Protocol implementation for Ruff.                 https://github.com/astral-sh/ruff-lsp   NOASSERTION 2022-12-17\n",
      "astral-sh/ruff-vscode               2025.22.0 2025-05-06T01:13:01Z   1352      63  A Visual Studio Code extension with support for the Ruff lin              https://github.com/astral-sh/ruff-vscode   NOASSERTION 2022-11-08\n",
      "astral-sh/ruff-pre-commit             v0.11.9 2025-05-09T16:25:34Z   1273      22                                   A pre-commit hook for Ruff.          https://github.com/astral-sh/ruff-pre-commit    Apache-2.0 2022-09-20\n",
      "pallets/markupsafe                      3.0.2 2025-01-14T21:45:29Z    654       8              Safely add untrusted strings to HTML/XML markup.                 https://github.com/pallets/markupsafe  BSD-3-Clause 2010-06-22\n",
      "astral-sh/setup-uv                     v6.0.1 2025-05-09T10:58:05Z    398      12  Set up your GitHub Actions workflow with a specific version                  https://github.com/astral-sh/setup-uv           MIT 2024-08-23\n",
      "astral-sh/uv-pre-commit                 0.7.3 2025-05-07T20:05:48Z    182      21                                                          None            https://github.com/astral-sh/uv-pre-commit    Apache-2.0 2024-03-22\n",
      "astral-sh/ruff-action                  v3.3.1 2025-05-11T08:20:30Z    142       7                                   A GitHub Action to run Ruff              https://github.com/astral-sh/ruff-action    Apache-2.0 2024-09-29\n",
      "astral-sh/packse                       0.3.46 2025-03-27T20:11:10Z    117       9                                    Python packaging scenarios                   https://github.com/astral-sh/packse    Apache-2.0 2023-12-13\n",
      "pallets/pallets-sphinx-themes           2.3.0 2024-10-24T18:55:28Z     55       1               Sphinx themes for Pallets and related projects.      https://github.com/pallets/pallets-sphinx-themes  BSD-3-Clause 2015-08-07\n",
      "astral-sh/cargo-dist                  v0.28.5 2025-05-06T20:16:05Z     37      11                             📦 shippable application packaging               https://github.com/astral-sh/cargo-dist    Apache-2.0 2025-04-03\n",
      "astral-sh/tokio-tar                    v0.5.2 2025-03-18T02:24:44Z     25       3        A tar archive reading/writing library for async Rust.                 https://github.com/astral-sh/tokio-tar    Apache-2.0 2024-12-09\n",
      "pallets/flask-ext-migrate               1.0.1 2017-07-10T15:39:37Z     23       0               A script for migrating extension import syntax.          https://github.com/pallets/flask-ext-migrate   NOASSERTION 2015-03-23\u001b[0m\n"
     ]
    }
   ],
   "source": [
    "!rics -vvv repos --sort=stars"
   ]
  },
  {
   "cell_type": "code",
   "execution_count": null,
   "id": "9589c5a3-02d0-4d45-836f-5f288bb6e8f3",
   "metadata": {
    "ExecuteTime": {
     "end_time": "2025-04-30T17:13:26.024604Z",
     "start_time": "2025-04-30T17:13:26.022606Z"
    }
   },
   "outputs": [],
   "source": []
  }
 ],
 "metadata": {
  "kernelspec": {
   "display_name": "rics-py3.11 [poetry]",
   "language": "python",
   "name": "rics.jupyter.rics-py3.11"
  },
  "language_info": {
   "codemirror_mode": {
    "name": "ipython",
    "version": 3
   },
   "file_extension": ".py",
   "mimetype": "text/x-python",
   "name": "python",
   "nbconvert_exporter": "python",
   "pygments_lexer": "ipython3",
   "version": "3.11.12"
  }
 },
 "nbformat": 4,
 "nbformat_minor": 5
}
