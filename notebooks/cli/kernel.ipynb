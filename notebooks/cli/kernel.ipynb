{
 "cells": [
  {
   "cell_type": "markdown",
   "id": "3664107e-ea54-4df0-984e-9d41c8815520",
   "metadata": {},
   "source": [
    "# rics kernel\n",
    "Install Jupyter kernel spec for a virtual environment."
   ]
  },
  {
   "cell_type": "markdown",
   "id": "e8c552a1-adb9-45a7-be13-9857a682ea3c",
   "metadata": {
    "execution": {
     "iopub.execute_input": "2022-12-10T17:49:36.130146Z",
     "iopub.status.busy": "2022-12-10T17:49:36.129835Z",
     "iopub.status.idle": "2022-12-10T17:49:36.135366Z",
     "shell.execute_reply": "2022-12-10T17:49:36.134275Z",
     "shell.execute_reply.started": "2022-12-10T17:49:36.130122Z"
    }
   },
   "source": [
    "# Synopsis"
   ]
  },
  {
   "cell_type": "code",
   "execution_count": 1,
   "id": "de9874b4-8489-4854-b932-7f48edcedf8e",
   "metadata": {
    "execution": {
     "iopub.execute_input": "2025-05-11T11:21:23.810478Z",
     "iopub.status.busy": "2025-05-11T11:21:23.810353Z",
     "iopub.status.idle": "2025-05-11T11:21:24.275031Z",
     "shell.execute_reply": "2025-05-11T11:21:24.274432Z",
     "shell.execute_reply.started": "2025-05-11T11:21:23.810467Z"
    },
    "tags": []
   },
   "outputs": [
    {
     "name": "stdout",
     "output_type": "stream",
     "text": [
      "Usage: rics kernel [OPTIONS]\n",
      "\n",
      "  Install Jupyter kernel spec for a virtual environment.\n",
      "\n",
      "Options:\n",
      "  --user / --system         Select user [default] or system-wide install.\n",
      "                            System install may require elevated privileges.\n",
      "  --name TEXT               Explicit display name.  [default: (automatic)]\n",
      "  --profile TEXT            An IPython profile to be loaded by the kernel.\n",
      "  --prefix TEXT             Spec location prefix for non-default locations\n",
      "                            such as conda. Mutually exclusive with --user.\n",
      "                            \n",
      "                            The kernel JSON will be located at:\n",
      "                               `<prefix>/share/jupyter/kernels/rics.kernel.<slug>/kernel.json`.\n",
      "  -e, --env <TEXT TEXT>...  Extra environment variables for the kernel.\n",
      "                            \n",
      "                            Given as [<Key> <Value>]-pairs. Example:\n",
      "                                `<cmd> -e OMP_NUM_THREADS 32 -e MY_VAR my_value`\n",
      "  --variant TEXT            Install a variant of the kernel, e.g. with extra\n",
      "                            environment variables.\n",
      "  -p, --add-package TEXT    Packages to install in the kernel. Pass a single\n",
      "                            character to disable extra packages, e.g. `-p0`.\n",
      "                            [default: jupyterlab-execute-time, jupyterlab-git,\n",
      "                            jupyterlab-code-formatter, ipywidgets, black,\n",
      "                            isort]\n",
      "  --help                    Show this message and exit.\n"
     ]
    }
   ],
   "source": [
    "!rics kernel --help"
   ]
  },
  {
   "cell_type": "markdown",
   "id": "fe501db4-c2ee-4130-a9a5-5c4243386eb5",
   "metadata": {},
   "source": [
    "# Example run\n",
    "The purpose of this command is to \"just work\". Run without arguments for sane defaults."
   ]
  },
  {
   "cell_type": "code",
   "execution_count": 2,
   "id": "89a431ad-a605-4174-85b7-e9a1fdec31f1",
   "metadata": {
    "execution": {
     "iopub.execute_input": "2025-05-11T11:21:24.275870Z",
     "iopub.status.busy": "2025-05-11T11:21:24.275715Z",
     "iopub.status.idle": "2025-05-11T11:21:26.201538Z",
     "shell.execute_reply": "2025-05-11T11:21:26.200946Z",
     "shell.execute_reply.started": "2025-05-11T11:21:24.275855Z"
    }
   },
   "outputs": [
    {
     "name": "stdout",
     "output_type": "stream",
     "text": [
      "\u001b[32mInstalling KernelSpec(display_name='rics-py3.11 [poetry]', name='rics.jupyter.rics-py3.11', executable='/home/dev/git/rics/.venv/bin/python').\u001b[0m\n",
      "\u001b[32mKernel spec installed: '/home/dev/.local/share/jupyter/kernels/rics.jupyter.rics-py3.11'\u001b[0m\n"
     ]
    }
   ],
   "source": [
    "!rics kernel"
   ]
  },
  {
   "cell_type": "markdown",
   "id": "3150a307-1704-4ef0-976b-8a23b42e94eb",
   "metadata": {},
   "source": [
    "# Customizing the kernel\n",
    "The `--env` flag may be used to specify custom default environment variables for the kernel. Below, we redirect S3 URLs to a local [MinIO](https://hub.docker.com/r/minio/minio) instance.\n",
    "\n",
    "This is a way to provide sane defaults. Users can override variables by explicitly in their notebooks.\n",
    "\n",
    "We've used the `-vvv` flag to get `DEBUG` output from thmodule loggers. Note that this prints the environment variables **values** as well, so it is technically unsafe. Running with just `-v` uses the `INFO` level and does not print sensitive data."
   ]
  },
  {
   "cell_type": "code",
   "execution_count": 3,
   "id": "9ddc99f4-33ea-4d0d-abc6-15abcc65860b",
   "metadata": {
    "execution": {
     "iopub.execute_input": "2025-05-11T11:21:26.202197Z",
     "iopub.status.busy": "2025-05-11T11:21:26.202073Z",
     "iopub.status.idle": "2025-05-11T11:21:28.090640Z",
     "shell.execute_reply": "2025-05-11T11:21:28.089950Z",
     "shell.execute_reply.started": "2025-05-11T11:21:26.202185Z"
    }
   },
   "outputs": [
    {
     "name": "stderr",
     "output_type": "stream",
     "text": [
      "2025-05-11T11:21:26.550 [rics.jupyter.VenvHelper.resolve:DEBUG] Resolver order (3): poetry | uv | sys.\n",
      "2025-05-11T11:21:26.550 [rics.jupyter.VenvHelper.resolve:DEBUG] Resolver 1/3: poetry(): Starting.\n",
      "2025-05-11T11:21:27.228 [rics.jupyter.VenvHelper.resolve:DEBUG] Resolver 1/3: poetry(): returned result=('/home/dev/git/rics/.venv', '/home/dev/git/rics/.venv/bin/python').\n",
      "2025-05-11T11:21:27.228 [rics.jupyter.VenvHelper:DEBUG] Reading pyvenv.cfg for manager='poetry': '/home/dev/git/rics/.venv/pyvenv.cfg'.\n",
      "2025-05-11T11:21:27.228 [rics.jupyter.VenvHelper:DEBUG] Found 9 keys in pyvenv.cfg: ['home', 'implementation', 'version_info', 'virtualenv', 'include-system-site-packages', 'base-prefix', 'base-exec-prefix', 'base-executable', 'prompt'].\n"
     ]
    },
    {
     "name": "stdout",
     "output_type": "stream",
     "text": [
      "Installing KernelSpec(display_name='rics-py3.11 [Local S3]', name='rics.jupyter.rics-py3.11.local-s3', executable='/home/dev/git/rics/.venv/bin/python').\n"
     ]
    },
    {
     "name": "stderr",
     "output_type": "stream",
     "text": [
      "2025-05-11T11:21:27.266 [rics.jupyter:DEBUG] Setting user=True from prefix=None.\n",
      "2025-05-11T11:21:27.397 [traitlets:INFO] Removing existing kernelspec in /home/dev/.local/share/jupyter/kernels/rics.jupyter.rics-py3.11.local-s3\n",
      "2025-05-11T11:21:27.398 [traitlets:INFO] Installed kernelspec rics.jupyter.rics-py3.11.local-s3 in /home/dev/.local/share/jupyter/kernels/rics.jupyter.rics-py3.11.local-s3\n",
      "2025-05-11T11:21:27.398 [rics.jupyter:INFO] Patching kernel 'rics-py3.11' at '/home/dev/.local/share/jupyter/kernels/rics.jupyter.rics-py3.11.local-s3/kernel.json'.\n",
      "2025-05-11T11:21:27.398 [rics.jupyter:DEBUG] Read kernel spec from path='/home/dev/.local/share/jupyter/kernels/rics.jupyter.rics-py3.11.local-s3/kernel.json':\n",
      "{'argv': ['/home/dev/git/rics/.venv/bin/python', '-m', 'ipykernel_launcher', '-f', '{connection_file}'], 'display_name': 'rics-py3.11 [Local S3]', 'language': 'python', 'metadata': {'debugger': True}, 'env': {'AWS_ACCESS_KEY_ID': 'dev-key', 'AWS_SECRET_ACCESS_KEY': 'dev-secret', 'AWS_ENDPOINT_URL_S3': 'http://localhost:9000', 'PYDEVD_DISABLE_FILE_VALIDATION': '1'}}\n",
      "2025-05-11T11:21:27.398 [rics.jupyter:DEBUG] Updating metadata: {'debugger': True}.\n",
      "2025-05-11T11:21:27.398 [rics.jupyter:DEBUG] Invoking callback: rics.jupyter.cli.write_user_command(KernelSpec).\n",
      "2025-05-11T11:21:27.398 [rics.jupyter:DEBUG] Writing kernel spec to path='/home/dev/.local/share/jupyter/kernels/rics.jupyter.rics-py3.11.local-s3/kernel.json':\n",
      "{\n",
      "  \"argv\": [\n",
      "    \"/home/dev/git/rics/.venv/bin/python\",\n",
      "    \"-m\",\n",
      "    \"ipykernel_launcher\",\n",
      "    \"-f\",\n",
      "    \"{connection_file}\"\n",
      "  ],\n",
      "  \"display_name\": \"rics-py3.11 [Local S3]\",\n",
      "  \"env\": {\n",
      "    \"AWS_ACCESS_KEY_ID\": \"dev-key\",\n",
      "    \"AWS_ENDPOINT_URL_S3\": \"http://localhost:9000\",\n",
      "    \"AWS_SECRET_ACCESS_KEY\": \"dev-secret\",\n",
      "    \"PYDEVD_DISABLE_FILE_VALIDATION\": \"1\"\n",
      "  },\n",
      "  \"language\": \"python\",\n",
      "  \"metadata\": {\n",
      "    \"debugger\": true,\n",
      "    \"rics.jupyter\": {\n",
      "      \"created_at\": \"2025-05-11T11:21:27+00:00\",\n",
      "      \"created_by\": \"dev\",\n",
      "      \"installer\": {\n",
      "        \"sys.executable\": \"/home/dev/git/rics/.venv/bin/python\",\n",
      "        \"sys.version\": \"3.11.12 (main, Apr  9 2025, 08:55:55) [GCC 13.3.0]\",\n",
      "        \"user_command\": \"rics -vvv kernel --variant=Local S3 -e AWS_ACCESS_KEY_ID dev-key -e AWS_SECRET_ACCESS_KEY dev-secret -e AWS_ENDPOINT_URL_S3 http://localhost:9000\",\n",
      "        \"version\": \"5.0.1.dev1\",\n",
      "        \"workdir\": \"/home/dev/git/rics/notebooks/cli\"\n",
      "      },\n",
      "      \"variant\": \"Local S3\",\n",
      "      \"venv\": {\n",
      "        \"manager\": \"poetry\",\n",
      "        \"pyvenv.cfg\": \"/home/dev/git/rics/.venv/pyvenv.cfg\",\n",
      "        \"slug\": \"rics-py3.11\",\n",
      "        \"version_info\": \"3.11.12.final.0\"\n",
      "      }\n",
      "    }\n",
      "  }\n",
      "}\n",
      "2025-05-11T11:21:27.399 [rics.jupyter:INFO] Installing packages: ['ipykernel', 'jupyterlab-execute-time', 'jupyterlab-git', 'jupyterlab-code-formatter', 'ipywidgets', 'black', 'isort'].\n",
      "2025-05-11T11:21:27.399 [rics.jupyter:DEBUG] Installing packages: Command: /home/dev/git/rics/.venv/bin/python -q -m pip install --disable-pip-version-check --quiet --require-virtualenv ipykernel jupyterlab-execute-time jupyterlab-git jupyterlab-code-formatter ipywidgets black isort\n"
     ]
    },
    {
     "name": "stdout",
     "output_type": "stream",
     "text": [
      "Kernel spec installed: '/home/dev/.local/share/jupyter/kernels/rics.jupyter.rics-py3.11.local-s3'\n"
     ]
    }
   ],
   "source": [
    "%%sh\n",
    "rics -vvv kernel --variant=\"Local S3\" \\\n",
    "    -e AWS_ACCESS_KEY_ID dev-key \\\n",
    "    -e AWS_SECRET_ACCESS_KEY dev-secret \\\n",
    "    -e AWS_ENDPOINT_URL_S3 http://localhost:9000"
   ]
  },
  {
   "cell_type": "markdown",
   "id": "265887ed-eb81-4d32-9140-5756b809527d",
   "metadata": {},
   "source": [
    "## The `kernel.json` file\n",
    "See [Jupyter kernel documentation](https://jupyter-client.readthedocs.io/en/stable/kernels.html#kernel-specs) for the official kernelspec documentation.\n",
    "\n",
    "This program adds metadata added under the `metadata.'rics.jupyter'` key. The values here have no effect at runetime, but are useful for debugging. Below is the original file that was creating by running `rics kenrel` without any arguments."
   ]
  },
  {
   "cell_type": "code",
   "execution_count": 4,
   "id": "308313df-aced-4b4d-86e5-88c9db645b79",
   "metadata": {
    "execution": {
     "iopub.execute_input": "2025-05-11T11:21:28.091858Z",
     "iopub.status.busy": "2025-05-11T11:21:28.091384Z",
     "iopub.status.idle": "2025-05-11T11:21:28.504930Z",
     "shell.execute_reply": "2025-05-11T11:21:28.504236Z",
     "shell.execute_reply.started": "2025-05-11T11:21:28.091845Z"
    }
   },
   "outputs": [
    {
     "name": "stdout",
     "output_type": "stream",
     "text": [
      "{\n",
      "\u001b[38;2;187;187;187m  \u001b[39m\u001b[38;2;0;128;0;01m\"argv\"\u001b[39;00m:\u001b[38;2;187;187;187m \u001b[39m[\n",
      "\u001b[38;2;187;187;187m    \u001b[39m\u001b[38;2;186;33;33m\"/home/dev/git/rics/.venv/bin/python\"\u001b[39m,\n",
      "\u001b[38;2;187;187;187m    \u001b[39m\u001b[38;2;186;33;33m\"-m\"\u001b[39m,\n",
      "\u001b[38;2;187;187;187m    \u001b[39m\u001b[38;2;186;33;33m\"ipykernel_launcher\"\u001b[39m,\n",
      "\u001b[38;2;187;187;187m    \u001b[39m\u001b[38;2;186;33;33m\"-f\"\u001b[39m,\n",
      "\u001b[38;2;187;187;187m    \u001b[39m\u001b[38;2;186;33;33m\"{connection_file}\"\u001b[39m\n",
      "\u001b[38;2;187;187;187m  \u001b[39m],\n",
      "\u001b[38;2;187;187;187m  \u001b[39m\u001b[38;2;0;128;0;01m\"display_name\"\u001b[39;00m:\u001b[38;2;187;187;187m \u001b[39m\u001b[38;2;186;33;33m\"rics-py3.11 [Local S3]\"\u001b[39m,\n",
      "\u001b[38;2;187;187;187m  \u001b[39m\u001b[38;2;0;128;0;01m\"env\"\u001b[39;00m:\u001b[38;2;187;187;187m \u001b[39m{\n",
      "\u001b[38;2;187;187;187m    \u001b[39m\u001b[38;2;0;128;0;01m\"AWS_ACCESS_KEY_ID\"\u001b[39;00m:\u001b[38;2;187;187;187m \u001b[39m\u001b[38;2;186;33;33m\"dev-key\"\u001b[39m,\n",
      "\u001b[38;2;187;187;187m    \u001b[39m\u001b[38;2;0;128;0;01m\"AWS_ENDPOINT_URL_S3\"\u001b[39;00m:\u001b[38;2;187;187;187m \u001b[39m\u001b[38;2;186;33;33m\"http://localhost:9000\"\u001b[39m,\n",
      "\u001b[38;2;187;187;187m    \u001b[39m\u001b[38;2;0;128;0;01m\"AWS_SECRET_ACCESS_KEY\"\u001b[39;00m:\u001b[38;2;187;187;187m \u001b[39m\u001b[38;2;186;33;33m\"dev-secret\"\u001b[39m,\n",
      "\u001b[38;2;187;187;187m    \u001b[39m\u001b[38;2;0;128;0;01m\"PYDEVD_DISABLE_FILE_VALIDATION\"\u001b[39;00m:\u001b[38;2;187;187;187m \u001b[39m\u001b[38;2;186;33;33m\"1\"\u001b[39m\n",
      "\u001b[38;2;187;187;187m  \u001b[39m},\n",
      "\u001b[38;2;187;187;187m  \u001b[39m\u001b[38;2;0;128;0;01m\"language\"\u001b[39;00m:\u001b[38;2;187;187;187m \u001b[39m\u001b[38;2;186;33;33m\"python\"\u001b[39m,\n",
      "\u001b[38;2;187;187;187m  \u001b[39m\u001b[38;2;0;128;0;01m\"metadata\"\u001b[39;00m:\u001b[38;2;187;187;187m \u001b[39m{\n",
      "\u001b[38;2;187;187;187m    \u001b[39m\u001b[38;2;0;128;0;01m\"debugger\"\u001b[39;00m:\u001b[38;2;187;187;187m \u001b[39m\u001b[38;2;0;128;0;01mtrue\u001b[39;00m,\n",
      "\u001b[38;2;187;187;187m    \u001b[39m\u001b[38;2;0;128;0;01m\"rics.jupyter\"\u001b[39;00m:\u001b[38;2;187;187;187m \u001b[39m{\n",
      "\u001b[38;2;187;187;187m      \u001b[39m\u001b[38;2;0;128;0;01m\"created_at\"\u001b[39;00m:\u001b[38;2;187;187;187m \u001b[39m\u001b[38;2;186;33;33m\"2025-05-11T11:21:27+00:00\"\u001b[39m,\n",
      "\u001b[38;2;187;187;187m      \u001b[39m\u001b[38;2;0;128;0;01m\"created_by\"\u001b[39;00m:\u001b[38;2;187;187;187m \u001b[39m\u001b[38;2;186;33;33m\"dev\"\u001b[39m,\n",
      "\u001b[38;2;187;187;187m      \u001b[39m\u001b[38;2;0;128;0;01m\"installer\"\u001b[39;00m:\u001b[38;2;187;187;187m \u001b[39m{\n",
      "\u001b[38;2;187;187;187m        \u001b[39m\u001b[38;2;0;128;0;01m\"sys.executable\"\u001b[39;00m:\u001b[38;2;187;187;187m \u001b[39m\u001b[38;2;186;33;33m\"/home/dev/git/rics/.venv/bin/python\"\u001b[39m,\n",
      "\u001b[38;2;187;187;187m        \u001b[39m\u001b[38;2;0;128;0;01m\"sys.version\"\u001b[39;00m:\u001b[38;2;187;187;187m \u001b[39m\u001b[38;2;186;33;33m\"3.11.12 (main, Apr  9 2025, 08:55:55) [GCC 13.3.0]\"\u001b[39m,\n",
      "\u001b[38;2;187;187;187m        \u001b[39m\u001b[38;2;0;128;0;01m\"user_command\"\u001b[39;00m:\u001b[38;2;187;187;187m \u001b[39m\u001b[38;2;186;33;33m\"rics -vvv kernel --variant=Local S3 -e AWS_ACCESS_KEY_ID dev-key -e AWS_SECRET_ACCESS_KEY dev-secret -e AWS_ENDPOINT_URL_S3 http://localhost:9000\"\u001b[39m,\n",
      "\u001b[38;2;187;187;187m        \u001b[39m\u001b[38;2;0;128;0;01m\"version\"\u001b[39;00m:\u001b[38;2;187;187;187m \u001b[39m\u001b[38;2;186;33;33m\"5.0.1.dev1\"\u001b[39m,\n",
      "\u001b[38;2;187;187;187m        \u001b[39m\u001b[38;2;0;128;0;01m\"workdir\"\u001b[39;00m:\u001b[38;2;187;187;187m \u001b[39m\u001b[38;2;186;33;33m\"/home/dev/git/rics/notebooks/cli\"\u001b[39m\n",
      "\u001b[38;2;187;187;187m      \u001b[39m},\n",
      "\u001b[38;2;187;187;187m      \u001b[39m\u001b[38;2;0;128;0;01m\"variant\"\u001b[39;00m:\u001b[38;2;187;187;187m \u001b[39m\u001b[38;2;186;33;33m\"Local S3\"\u001b[39m,\n",
      "\u001b[38;2;187;187;187m      \u001b[39m\u001b[38;2;0;128;0;01m\"venv\"\u001b[39;00m:\u001b[38;2;187;187;187m \u001b[39m{\n",
      "\u001b[38;2;187;187;187m        \u001b[39m\u001b[38;2;0;128;0;01m\"manager\"\u001b[39;00m:\u001b[38;2;187;187;187m \u001b[39m\u001b[38;2;186;33;33m\"poetry\"\u001b[39m,\n",
      "\u001b[38;2;187;187;187m        \u001b[39m\u001b[38;2;0;128;0;01m\"pyvenv.cfg\"\u001b[39;00m:\u001b[38;2;187;187;187m \u001b[39m\u001b[38;2;186;33;33m\"/home/dev/git/rics/.venv/pyvenv.cfg\"\u001b[39m,\n",
      "\u001b[38;2;187;187;187m        \u001b[39m\u001b[38;2;0;128;0;01m\"slug\"\u001b[39;00m:\u001b[38;2;187;187;187m \u001b[39m\u001b[38;2;186;33;33m\"rics-py3.11\"\u001b[39m,\n",
      "\u001b[38;2;187;187;187m        \u001b[39m\u001b[38;2;0;128;0;01m\"version_info\"\u001b[39;00m:\u001b[38;2;187;187;187m \u001b[39m\u001b[38;2;186;33;33m\"3.11.12.final.0\"\u001b[39m\n",
      "\u001b[38;2;187;187;187m      \u001b[39m}\n",
      "\u001b[38;2;187;187;187m    \u001b[39m}\n",
      "\u001b[38;2;187;187;187m  \u001b[39m}\n",
      "}\n"
     ]
    }
   ],
   "source": [
    "!pygmentize /home/dev/.local/share/jupyter/kernels/rics.jupyter.rics-py3.11.local-s3/kernel.json"
   ]
  },
  {
   "cell_type": "code",
   "execution_count": null,
   "id": "fcfbe342-dd56-46fa-aa76-ec81550ef142",
   "metadata": {},
   "outputs": [],
   "source": []
  }
 ],
 "metadata": {
  "kernelspec": {
   "display_name": "rics-py3.11 [poetry]",
   "language": "python",
   "name": "rics.jupyter.rics-py3.11"
  },
  "language_info": {
   "codemirror_mode": {
    "name": "ipython",
    "version": 3
   },
   "file_extension": ".py",
   "mimetype": "text/x-python",
   "name": "python",
   "nbconvert_exporter": "python",
   "pygments_lexer": "ipython3",
   "version": "3.11.12"
  }
 },
 "nbformat": 4,
 "nbformat_minor": 5
}
