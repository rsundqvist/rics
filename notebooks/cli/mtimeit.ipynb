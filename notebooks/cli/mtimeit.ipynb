{
 "cells": [
  {
   "cell_type": "markdown",
   "id": "3664107e-ea54-4df0-984e-9d41c8815520",
   "metadata": {},
   "source": [
    "# mtimeit\n",
    "Multivariate performance testing from the command line."
   ]
  },
  {
   "cell_type": "markdown",
   "id": "e8c552a1-adb9-45a7-be13-9857a682ea3c",
   "metadata": {
    "execution": {
     "iopub.execute_input": "2022-12-10T17:49:36.130146Z",
     "iopub.status.busy": "2022-12-10T17:49:36.129835Z",
     "iopub.status.idle": "2022-12-10T17:49:36.135366Z",
     "shell.execute_reply": "2022-12-10T17:49:36.134275Z",
     "shell.execute_reply.started": "2022-12-10T17:49:36.130122Z"
    }
   },
   "source": [
    "# Synopsis"
   ]
  },
  {
   "cell_type": "code",
   "execution_count": 1,
   "id": "de9874b4-8489-4854-b932-7f48edcedf8e",
   "metadata": {
    "tags": []
   },
   "outputs": [
    {
     "name": "stdout",
     "output_type": "stream",
     "text": [
      "Usage: mtimeit [OPTIONS]\n",
      "\n",
      "  Run a multivariate performance test.\n",
      "\n",
      "  This is the https://pypi.org/project/rics/ version of the python timeit\n",
      "  module. It may be used to run performance tests evaluating one or more\n",
      "  candidate functions ('candidates.py') on one or more different kinds of\n",
      "  inputs ('test_data.py'). See below for details on these modules.\n",
      "\n",
      "  This script will:\n",
      "      0. Create 'candidates.py' and 'test_data.py' (iff --create is set)\n",
      "      1. Quickly evaluate each candidate on all test data \"a few times\".\n",
      "      2. Decide how many times to evaluate each candidate, such that the\n",
      "         --time-per-candidate argument is respected.\n",
      "      3. Print the best times per candidate/test_data\n",
      "         combination to stdout.\n",
      "      4. Save a performance overview figure to disk.\n",
      "      5. Save raw timing data to disk as CSV.\n",
      "\n",
      "  Required files:\n",
      "      candidates.py - Members starting with 'candidate_' are used as candidates.\n",
      "      test_data.py - Members starting with 'case_' are used as the case case data.\n",
      "\n",
      "  Hint: Define a 'ALL'-attributes in 'candidates' and 'test_data' to declare\n",
      "  explicit members to use.\n",
      "\n",
      "Options:\n",
      "  --time-per-candidate FLOAT      Time in seconds to allocate to each\n",
      "                                  candidate function.  [default: 2.0]\n",
      "  --name FILE                     Name to use for artifacts produced. Also\n",
      "                                  used as the figure title (stylized).\n",
      "                                  [default: performance.png]\n",
      "  --create / --no-create          Create files 'candidates.py' and\n",
      "                                  'test_data.py' and run a demo. Will not\n",
      "                                  overwrite existing files.  [default: no-\n",
      "                                  create]\n",
      "  --per-candidate / --no-per-candidate\n",
      "                                  Enable to print per-candidate best times.\n",
      "                                  Just shows the best overall per data if\n",
      "                                  disabled.  [default: per-candidate]\n",
      "  --help                          Show this message and exit.\n"
     ]
    }
   ],
   "source": [
    "!mtimeit --help"
   ]
  },
  {
   "cell_type": "markdown",
   "id": "fe501db4-c2ee-4130-a9a5-5c4243386eb5",
   "metadata": {},
   "source": [
    "# Example run\n",
    "Output when running ``mtimeit --create``. This flag may be used to initialize working dummy implementations of the\n",
    "required `candidates.py` and `test_data.py` modules."
   ]
  },
  {
   "cell_type": "code",
   "execution_count": 2,
   "id": "ab10302a-61ed-4d55-8cc0-af4880bc3573",
   "metadata": {
    "tags": []
   },
   "outputs": [
    {
     "name": "stdout",
     "output_type": "stream",
     "text": [
      "\u001b[32m========================= Begin Performance Evaluation =========================\u001b[0m\n",
      "\u001b[32m|                             'Create Example Run'                             |\u001b[0m\n",
      "\u001b[32m--------------------------------------------------------------------------------\u001b[0m\n",
      "👻 Configured some stuff just the way I like it!\n",
      "\u001b[32m| Found 2 candidates and 2 data variants.                                      |\u001b[0m\n",
      "\u001b[32m| Started: 2024-02-03 14:44:56, ETA: Saturday 03, 14:44:57                     |\u001b[0m\n",
      "\u001b[32m================================================================================\u001b[0m\n",
      "2024-02-03T14:44:58.196 [rics.performance:INFO] Evaluate candidate 'do_nothing' 5x237328 times..\n",
      "/home/jovyan/work/src/rics/performance/_multi_case_timer.py:83: UserWarning: The test results may be unreliable for ('do_nothing', 'small_array'). The worst time 22μs was ~126.9 times slower than the best time (175ns).\n",
      "  warnings.warn(\n",
      "/home/jovyan/work/src/rics/performance/_multi_case_timer.py:83: UserWarning: The test results may be unreliable for ('do_nothing', 'big_array'). The worst time 33μs was ~189.3 times slower than the best time (176ns).\n",
      "  warnings.warn(\n",
      "2024-02-03T14:44:58.485 [rics.performance:INFO] Evaluate candidate 'do_something' 5x7 times..\n",
      "/home/jovyan/work/src/rics/performance/_multi_case_timer.py:83: UserWarning: The test results may be unreliable for ('do_something', 'small_array'). The worst time 2μs was ~4.6 times slower than the best time (338ns).\n",
      "  warnings.warn(\n",
      "/home/jovyan/work/src/rics/performance/_util.py:104: FutureWarning: The default of observed=False is deprecated and will be changed to True in a future version of pandas. Pass observed=False to retain current behavior or observed=True to adopt the future default and silence this warning.\n",
      "  best = data.groupby([\"Test data\", \"Candidate\"]).min().reset_index()\n",
      "Figure(1600x700)\n",
      "\u001b[32m================================================================================\u001b[0m\n",
      "\u001b[32m|                                  Best Times                                  |\u001b[0m\n",
      "\u001b[32m|                             'Create Example Run'                             |\u001b[0m\n",
      "\u001b[32m================================================================================\u001b[0m\n",
      "\u001b[31m           Candidate    Test data  Run no    Time [s]   Time [ms]   Time [μs]   Times min  Times mean\n",
      "179621    do_nothing  small_array  179621 7.37376e-13 7.37376e-10 7.37376e-07           1    0.195489\n",
      "466672    do_nothing    big_array  229344  7.4159e-13  7.4159e-10  7.4159e-07           1 1.27682e-05\n",
      "474660  do_something  small_array       4 4.82857e-08 4.82857e-05   0.0482857     65483.2     12801.3\n",
      "474669  do_something    big_array       6  0.00179516     1.79516     1795.16 2.42069e+09     30907.9\u001b[0m\n",
      "\u001b[32m================================================================================\u001b[0m\n",
      "\u001b[32mFigure saved: '/tmp/example/create-example-run.png'\u001b[0m\n",
      "\u001b[33mWARNING: The full timing report has 474670 rows, which may take a while to serialize.\u001b[0m\n",
      "Really print full report to '/tmp/example/create-example-run.csv'? [y/N]: \u001b[32mData saved: '/tmp/example/create-example-run.csv'\u001b[0m\n"
     ]
    }
   ],
   "source": [
    "!mkdir /tmp/example\n",
    "!(cd /tmp/example/ && (echo y | mtimeit --create))"
   ]
  },
  {
   "cell_type": "markdown",
   "id": "18810f8d-eec2-4e28-869d-dc9425667e5d",
   "metadata": {
    "execution": {
     "iopub.execute_input": "2022-12-10T17:54:15.378603Z",
     "iopub.status.busy": "2022-12-10T17:54:15.378287Z",
     "iopub.status.idle": "2022-12-10T17:54:15.383685Z",
     "shell.execute_reply": "2022-12-10T17:54:15.382824Z",
     "shell.execute_reply.started": "2022-12-10T17:54:15.378580Z"
    }
   },
   "source": [
    "# Generated files\n",
    "Contents of `/tmp/example`"
   ]
  },
  {
   "cell_type": "code",
   "execution_count": 3,
   "id": "e21091a5-a9fe-4e98-b8de-77912fb6d475",
   "metadata": {
    "tags": []
   },
   "outputs": [
    {
     "name": "stdout",
     "output_type": "stream",
     "text": [
      "/bin/bash: line 1: tree: command not found\n"
     ]
    }
   ],
   "source": [
    "!tree /tmp/example/ -L 1"
   ]
  },
  {
   "cell_type": "markdown",
   "id": "265887ed-eb81-4d32-9140-5756b809527d",
   "metadata": {},
   "source": [
    "## `candidates.py`"
   ]
  },
  {
   "cell_type": "code",
   "execution_count": 4,
   "id": "308313df-aced-4b4d-86e5-88c9db645b79",
   "metadata": {},
   "outputs": [
    {
     "name": "stdout",
     "output_type": "stream",
     "text": [
      "\u001b[33m\"\"\"Module defining candidate functions.\u001b[39;49;00m\n",
      "\u001b[33m\u001b[39;49;00m\n",
      "\u001b[33mAny top-level members that start with `\"candidate_\"` will be automatically\u001b[39;49;00m\n",
      "\u001b[33mimported. These are assumed to be callable. The candidates will be evaluated\u001b[39;49;00m\n",
      "\u001b[33mfor all data defined in ``test_data.py``.\u001b[39;49;00m\n",
      "\u001b[33m\u001b[39;49;00m\n",
      "\u001b[33mAlternatively, you may define an \"`ALL`\" attribute of explicit members to use.\u001b[39;49;00m\n",
      "\u001b[33m\"\"\"\u001b[39;49;00m\u001b[37m\u001b[39;49;00m\n",
      "\u001b[37m\u001b[39;49;00m\n",
      "\u001b[37m\u001b[39;49;00m\n",
      "\u001b[34mdef\u001b[39;49;00m \u001b[32mcandidate_do_nothing\u001b[39;49;00m(data):\u001b[37m\u001b[39;49;00m\n",
      "    \u001b[34mpass\u001b[39;49;00m\u001b[37m\u001b[39;49;00m\n",
      "\u001b[37m\u001b[39;49;00m\n",
      "\u001b[37m\u001b[39;49;00m\n",
      "\u001b[34mdef\u001b[39;49;00m \u001b[32mcandidate_do_something\u001b[39;49;00m(data):\u001b[37m\u001b[39;49;00m\n",
      "    \u001b[36msum\u001b[39;49;00m(data)\u001b[37m\u001b[39;49;00m\n",
      "\u001b[37m\u001b[39;49;00m\n",
      "\u001b[37m\u001b[39;49;00m\n",
      "\u001b[34mdef\u001b[39;49;00m \u001b[32mcandidate_ignored_since_not_in_all\u001b[39;49;00m(data):\u001b[37m\u001b[39;49;00m\n",
      "    \u001b[34mpass\u001b[39;49;00m\u001b[37m\u001b[39;49;00m\n",
      "\u001b[37m\u001b[39;49;00m\n",
      "\u001b[37m\u001b[39;49;00m\n",
      "\u001b[37m# Explicit members to use. Use a dict to specify names manually.\u001b[39;49;00m\u001b[37m\u001b[39;49;00m\n",
      "ALL = [\u001b[37m\u001b[39;49;00m\n",
      "    candidate_do_nothing,\u001b[37m\u001b[39;49;00m\n",
      "    candidate_do_something,\u001b[37m\u001b[39;49;00m\n",
      "]\u001b[37m\u001b[39;49;00m\n"
     ]
    }
   ],
   "source": [
    "!pygmentize /tmp/example/candidates.py"
   ]
  },
  {
   "cell_type": "markdown",
   "id": "bcbd0707-34fd-4025-a5e2-ab4fb20e4cbb",
   "metadata": {
    "execution": {
     "iopub.execute_input": "2022-12-10T18:38:32.986552Z",
     "iopub.status.busy": "2022-12-10T18:38:32.986263Z",
     "iopub.status.idle": "2022-12-10T18:38:32.991825Z",
     "shell.execute_reply": "2022-12-10T18:38:32.991059Z",
     "shell.execute_reply.started": "2022-12-10T18:38:32.986526Z"
    }
   },
   "source": [
    "## `test_data.py`"
   ]
  },
  {
   "cell_type": "code",
   "execution_count": 5,
   "id": "d8296e42-56cf-4694-8e06-fd65a039af90",
   "metadata": {},
   "outputs": [
    {
     "name": "stdout",
     "output_type": "stream",
     "text": [
      "\u001b[33m\"\"\"Module defining test data.\u001b[39;49;00m\n",
      "\u001b[33m\u001b[39;49;00m\n",
      "\u001b[33mAny top-level members that start with `\"data_\"` will be automatically imported\u001b[39;49;00m\n",
      "\u001b[33mand used on all candidates as defined by ``candidates.py``\u001b[39;49;00m\n",
      "\u001b[33m\u001b[39;49;00m\n",
      "\u001b[33mAlternatively, you may define an \"`ALL`\" attribute of explicit members to use.\u001b[39;49;00m\n",
      "\u001b[33m\"\"\"\u001b[39;49;00m\u001b[37m\u001b[39;49;00m\n",
      "\u001b[37m\u001b[39;49;00m\n",
      "data_small_array = [\u001b[34m0\u001b[39;49;00m]\u001b[37m\u001b[39;49;00m\n",
      "data_big_array = \u001b[36mlist\u001b[39;49;00m(\u001b[36mrange\u001b[39;49;00m(\u001b[34m10\u001b[39;49;00m**\u001b[34m6\u001b[39;49;00m))\u001b[37m\u001b[39;49;00m\n",
      "data_ignored_since_not_in_ALL = \u001b[34m0\u001b[39;49;00m\u001b[37m\u001b[39;49;00m\n",
      "\u001b[37m\u001b[39;49;00m\n",
      "\u001b[37m# Explicit members to use.\u001b[39;49;00m\u001b[37m\u001b[39;49;00m\n",
      "ALL = {\u001b[37m\u001b[39;49;00m\n",
      "    \u001b[33m\"\u001b[39;49;00m\u001b[33msmall_array\u001b[39;49;00m\u001b[33m\"\u001b[39;49;00m: data_small_array,\u001b[37m\u001b[39;49;00m\n",
      "    \u001b[33m\"\u001b[39;49;00m\u001b[33mbig_array\u001b[39;49;00m\u001b[33m\"\u001b[39;49;00m: data_big_array,\u001b[37m\u001b[39;49;00m\n",
      "}\u001b[37m\u001b[39;49;00m\n"
     ]
    }
   ],
   "source": [
    "!pygmentize /tmp/example/test_data.py"
   ]
  },
  {
   "cell_type": "code",
   "execution_count": null,
   "id": "f5e88429-d345-4f37-ae03-d03148e7fbf9",
   "metadata": {},
   "outputs": [],
   "source": []
  }
 ],
 "metadata": {
  "kernelspec": {
   "display_name": "Python 3 (ipykernel)",
   "language": "python",
   "name": "python3"
  },
  "language_info": {
   "codemirror_mode": {
    "name": "ipython",
    "version": 3
   },
   "file_extension": ".py",
   "mimetype": "text/x-python",
   "name": "python",
   "nbconvert_exporter": "python",
   "pygments_lexer": "ipython3",
   "version": "3.11.7"
  }
 },
 "nbformat": 4,
 "nbformat_minor": 5
}
