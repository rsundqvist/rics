{
 "cells": [
  {
   "cell_type": "code",
   "execution_count": 1,
   "id": "33142693-c474-46a5-9091-635228705a62",
   "metadata": {
    "execution": {
     "iopub.execute_input": "2022-03-13T14:35:56.954201Z",
     "iopub.status.busy": "2022-03-13T14:35:56.953942Z",
     "iopub.status.idle": "2022-03-13T14:35:57.113716Z",
     "shell.execute_reply": "2022-03-13T14:35:57.110754Z",
     "shell.execute_reply.started": "2022-03-13T14:35:56.954137Z"
    },
    "tags": []
   },
   "outputs": [
    {
     "name": "stdout",
     "output_type": "stream",
     "text": [
      "rics.__version__='0.1.0'\n",
      "sys.version='3.8.10 (default, Nov 26 2021, 20:14:08) \\n[GCC 9.3.0]'\n",
      "\u001b[33mc1eebea\u001b[m\u001b[33m (\u001b[m\u001b[1;36mHEAD -> \u001b[m\u001b[1;32msql-id-select\u001b[m\u001b[33m, \u001b[m\u001b[1;31morigin/sql-id-select\u001b[m\u001b[33m)\u001b[m work workdsad\n"
     ]
    }
   ],
   "source": [
    "import sys\n",
    "\n",
    "import rics\n",
    "\n",
    "# Print relevant versions\n",
    "print(f\"{rics.__version__=}\")\n",
    "print(f\"{sys.version=}\")\n",
    "!git log --pretty=oneline --abbrev-commit -1"
   ]
  },
  {
   "cell_type": "code",
   "execution_count": 2,
   "id": "2cf933f2-b333-4bf6-a985-63ca965bd727",
   "metadata": {
    "execution": {
     "iopub.execute_input": "2022-03-13T14:35:57.121706Z",
     "iopub.status.busy": "2022-03-13T14:35:57.120556Z",
     "iopub.status.idle": "2022-03-13T14:35:58.697256Z",
     "shell.execute_reply": "2022-03-13T14:35:58.696742Z",
     "shell.execute_reply.started": "2022-03-13T14:35:57.121333Z"
    },
    "tags": []
   },
   "outputs": [],
   "source": [
    "from rics.utility.logs import basic_config, logging\n",
    "\n",
    "basic_config(level=logging.INFO, rics_level=logging.DEBUG)"
   ]
  },
  {
   "cell_type": "markdown",
   "id": "93a678fb-4a20-4598-80cf-80d269c07d7f",
   "metadata": {},
   "source": [
    "# Title: Template\n",
    "Short description of what we're testing. This is a template to copy for new stuff."
   ]
  },
  {
   "cell_type": "markdown",
   "id": "58a9c11e-2dbf-4015-bf60-2fca3f212e6b",
   "metadata": {
    "execution": {
     "iopub.execute_input": "2022-03-03T10:10:56.234978Z",
     "iopub.status.busy": "2022-03-03T10:10:56.234744Z",
     "iopub.status.idle": "2022-03-03T10:10:56.240364Z",
     "shell.execute_reply": "2022-03-03T10:10:56.239813Z",
     "shell.execute_reply.started": "2022-03-03T10:10:56.234954Z"
    }
   },
   "source": [
    "## Load data\n",
    "Load some representative data we need for testing (that doesn't change between test cases or candidates)."
   ]
  },
  {
   "cell_type": "code",
   "execution_count": 3,
   "id": "b44bfcee-98d3-4023-b13c-f4829cdd0963",
   "metadata": {
    "execution": {
     "iopub.execute_input": "2022-03-13T14:35:58.699151Z",
     "iopub.status.busy": "2022-03-13T14:35:58.698574Z",
     "iopub.status.idle": "2022-03-13T14:35:58.703506Z",
     "shell.execute_reply": "2022-03-13T14:35:58.702787Z",
     "shell.execute_reply.started": "2022-03-13T14:35:58.699125Z"
    },
    "tags": []
   },
   "outputs": [],
   "source": [
    "import random\n",
    "\n",
    "test_data = random.choices(\n",
    "    [\n",
    "        0.000000,\n",
    "        0.000025,\n",
    "        # 0.000050,\n",
    "    ],\n",
    "    k=10_000,\n",
    ")"
   ]
  },
  {
   "cell_type": "markdown",
   "id": "a3470877-8315-4e06-8f7a-659aee949886",
   "metadata": {},
   "source": [
    "## Define the test procedure\n",
    "Define the test case we want to evaluate."
   ]
  },
  {
   "cell_type": "markdown",
   "id": "d4e061bb-61b4-4ce4-a98b-0171705ad113",
   "metadata": {
    "execution": {
     "iopub.execute_input": "2022-03-03T10:11:05.782014Z",
     "iopub.status.busy": "2022-03-03T10:11:05.781233Z",
     "iopub.status.idle": "2022-03-03T10:11:05.786275Z",
     "shell.execute_reply": "2022-03-03T10:11:05.784947Z",
     "shell.execute_reply.started": "2022-03-03T10:11:05.781984Z"
    }
   },
   "source": [
    "## Define candidates\n",
    "Define the functions or classes we're testing. Add to `candidates` list."
   ]
  },
  {
   "cell_type": "code",
   "execution_count": 4,
   "id": "3c160078-f1a3-4582-850e-9296c3975214",
   "metadata": {
    "execution": {
     "iopub.execute_input": "2022-03-13T14:35:58.705503Z",
     "iopub.status.busy": "2022-03-13T14:35:58.704899Z",
     "iopub.status.idle": "2022-03-13T14:35:58.723783Z",
     "shell.execute_reply": "2022-03-13T14:35:58.723011Z",
     "shell.execute_reply.started": "2022-03-13T14:35:58.705475Z"
    },
    "tags": []
   },
   "outputs": [],
   "source": [
    "import time\n",
    "\n",
    "\n",
    "def ignore_input(arg):\n",
    "    return \"foo\"  # Ignore input\n",
    "\n",
    "\n",
    "def act_on_input(arg):\n",
    "    time.sleep(sum(arg))  # Process input\n",
    "    return \"foo\"\n",
    "\n",
    "\n",
    "candidates = [ignore_input, act_on_input]"
   ]
  },
  {
   "cell_type": "markdown",
   "id": "39ce893f-3c51-464f-a6df-4ea76f5280f3",
   "metadata": {},
   "source": [
    "## Verification\n",
    "Make sure candidates are equivalent."
   ]
  },
  {
   "cell_type": "code",
   "execution_count": 5,
   "id": "d6701d06-6c46-406d-89ae-2a0033413e5c",
   "metadata": {
    "execution": {
     "iopub.execute_input": "2022-03-13T14:35:58.725159Z",
     "iopub.status.busy": "2022-03-13T14:35:58.724862Z",
     "iopub.status.idle": "2022-03-13T14:35:58.858050Z",
     "shell.execute_reply": "2022-03-13T14:35:58.857549Z",
     "shell.execute_reply.started": "2022-03-13T14:35:58.725137Z"
    },
    "tags": []
   },
   "outputs": [
    {
     "name": "stdout",
     "output_type": "stream",
     "text": [
      "Reference output: foo\n"
     ]
    }
   ],
   "source": [
    "reference_output = candidates[0](test_data)\n",
    "assert reference_output is not None\n",
    "print(\"Reference output:\", reference_output)\n",
    "\n",
    "for cand in candidates[1:]:\n",
    "    cand_output = cand(test_data)\n",
    "    assert reference_output == cand_output, f\"Bad candidate: {cand}. {cand_output=} != {reference_output=}\""
   ]
  },
  {
   "cell_type": "markdown",
   "id": "d9a31c30-acf2-4890-b2d6-41fdde98adec",
   "metadata": {},
   "source": [
    "## Run perfomance comparison\n",
    "Run comparison, show results per candidate and test data set."
   ]
  },
  {
   "cell_type": "code",
   "execution_count": 6,
   "id": "70f6320f-ba73-4cb4-bbe7-0cf28d1e56ae",
   "metadata": {
    "execution": {
     "iopub.execute_input": "2022-03-13T14:35:58.860141Z",
     "iopub.status.busy": "2022-03-13T14:35:58.859562Z",
     "iopub.status.idle": "2022-03-13T14:35:58.865198Z",
     "shell.execute_reply": "2022-03-13T14:35:58.863274Z",
     "shell.execute_reply.started": "2022-03-13T14:35:58.860113Z"
    },
    "tags": []
   },
   "outputs": [],
   "source": [
    "from rics.utility.misc import tname"
   ]
  },
  {
   "cell_type": "code",
   "execution_count": 7,
   "id": "adb5bf6b-7f0b-42ac-a1c5-1ccfab7c49c0",
   "metadata": {
    "execution": {
     "iopub.execute_input": "2022-03-13T14:35:58.868243Z",
     "iopub.status.busy": "2022-03-13T14:35:58.866327Z",
     "iopub.status.idle": "2022-03-13T14:36:34.430869Z",
     "shell.execute_reply": "2022-03-13T14:36:34.429947Z",
     "shell.execute_reply.started": "2022-03-13T14:35:58.868206Z"
    },
    "tags": []
   },
   "outputs": [
    {
     "name": "stderr",
     "output_type": "stream",
     "text": [
      "2022-03-13T14:35:59.810 [rics.utility.perf:INFO] Expected total runtime: 50.00 sec.\n"
     ]
    },
    {
     "data": {
      "image/png": "[encoded data removed]",
      "text/plain": [
       "<Figure size 720x360 with 1 Axes>"
      ]
     },
     "metadata": {},
     "output_type": "display_data"
    }
   ],
   "source": [
    "from rics.utility.perf import run_multivariate_test, format_perf_counter\n",
    "import seaborn as sns\n",
    "import matplotlib.pyplot as plt\n",
    "\n",
    "sns.set_theme(\"notebook\")\n",
    "fig, ax = plt.subplots(figsize=(10, 5))\n",
    "ax.set_title(\"Performance comparison\")\n",
    "\n",
    "data = run_multivariate_test(candidates, test_data, ax=ax)"
   ]
  },
  {
   "cell_type": "markdown",
   "id": "849fcac7-a839-4422-9527-3249d61cd173",
   "metadata": {},
   "source": [
    "### Performance summary\n",
    "Summarized results per candidate."
   ]
  },
  {
   "cell_type": "code",
   "execution_count": 8,
   "id": "626dfa9d-4798-4b94-97c9-e3064f1d0287",
   "metadata": {
    "execution": {
     "iopub.execute_input": "2022-03-13T14:36:34.432030Z",
     "iopub.status.busy": "2022-03-13T14:36:34.431789Z",
     "iopub.status.idle": "2022-03-13T14:36:34.472241Z",
     "shell.execute_reply": "2022-03-13T14:36:34.466336Z",
     "shell.execute_reply.started": "2022-03-13T14:36:34.432003Z"
    }
   },
   "outputs": [
    {
     "data": {
      "text/html": [
       "<div>\n",
       "<style scoped>\n",
       "    .dataframe tbody tr th:only-of-type {\n",
       "        vertical-align: middle;\n",
       "    }\n",
       "\n",
       "    .dataframe tbody tr th {\n",
       "        vertical-align: top;\n",
       "    }\n",
       "\n",
       "    .dataframe thead th {\n",
       "        text-align: right;\n",
       "    }\n",
       "</style>\n",
       "<table border=\"1\" class=\"dataframe\">\n",
       "  <thead>\n",
       "    <tr style=\"text-align: right;\">\n",
       "      <th></th>\n",
       "      <th>std</th>\n",
       "      <th>mean</th>\n",
       "      <th>min</th>\n",
       "      <th>max</th>\n",
       "    </tr>\n",
       "    <tr>\n",
       "      <th>Candidate</th>\n",
       "      <th></th>\n",
       "      <th></th>\n",
       "      <th></th>\n",
       "      <th></th>\n",
       "    </tr>\n",
       "  </thead>\n",
       "  <tbody>\n",
       "    <tr>\n",
       "      <th>act_on_input</th>\n",
       "      <td>0.00784029 sec</td>\n",
       "      <td>4.92 sec</td>\n",
       "      <td>4.92 sec</td>\n",
       "      <td>4.94 sec</td>\n",
       "    </tr>\n",
       "    <tr>\n",
       "      <th>ignore_input</th>\n",
       "      <td>0.0190307 sec</td>\n",
       "      <td>1.96 sec</td>\n",
       "      <td>1.94 sec</td>\n",
       "      <td>1.99 sec</td>\n",
       "    </tr>\n",
       "  </tbody>\n",
       "</table>\n",
       "</div>"
      ],
      "text/plain": [
       "                         std      mean       min       max\n",
       "Candidate                                                 \n",
       "act_on_input  0.00784029 sec  4.92 sec  4.92 sec  4.94 sec\n",
       "ignore_input   0.0190307 sec  1.96 sec  1.94 sec  1.99 sec"
      ]
     },
     "execution_count": 8,
     "metadata": {},
     "output_type": "execute_result"
    }
   ],
   "source": [
    "data.groupby(\"Candidate\")[\"Time [s]\"].agg([\"std\", \"mean\", \"min\", \"max\"]).applymap(lambda s: format_perf_counter(0, s))"
   ]
  },
  {
   "cell_type": "markdown",
   "id": "e1b9464e-ac84-4184-8571-b19f51300c13",
   "metadata": {},
   "source": [
    "# Conclusion\n",
    "Short summary. Looks like doing nothing is faster than doing something."
   ]
  },
  {
   "cell_type": "code",
   "execution_count": null,
   "id": "c0c46af8-d46e-4f9b-8e37-579aa975e16f",
   "metadata": {},
   "outputs": [],
   "source": []
  }
 ],
 "metadata": {
  "kernelspec": {
   "display_name": "Python 3 (ipykernel)",
   "language": "python",
   "name": "python3"
  },
  "language_info": {
   "codemirror_mode": {
    "name": "ipython",
    "version": 3
   },
   "file_extension": ".py",
   "mimetype": "text/x-python",
   "name": "python",
   "nbconvert_exporter": "python",
   "pygments_lexer": "ipython3",
   "version": "3.8.10"
  }
 },
 "nbformat": 4,
 "nbformat_minor": 5
}
