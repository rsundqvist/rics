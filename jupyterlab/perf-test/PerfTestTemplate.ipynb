{
 "cells": [
  {
   "cell_type": "code",
   "execution_count": 1,
   "id": "33142693-c474-46a5-9091-635228705a62",
   "metadata": {
    "tags": []
   },
   "outputs": [
    {
     "name": "stdout",
     "output_type": "stream",
     "text": [
      "rics.__version__='0.1.0'\n",
      "sys.version='3.8.10 (default, Nov 26 2021, 20:14:08) \\n[GCC 9.3.0]'\n",
      "\u001b[33m15933bd\u001b[m\u001b[33m (\u001b[m\u001b[1;36mHEAD -> \u001b[m\u001b[1;32mid-translation\u001b[m\u001b[33m, \u001b[m\u001b[1;31morigin/id-translation\u001b[m\u001b[33m)\u001b[m Add docs and jupyterlab folder (perftest+demo)\n"
     ]
    }
   ],
   "source": [
    "import sys\n",
    "\n",
    "import rics\n",
    "\n",
    "# Print relevant versions\n",
    "print(f\"{rics.__version__=}\")\n",
    "print(f\"{sys.version=}\")\n",
    "!git log --pretty=oneline --abbrev-commit -1"
   ]
  },
  {
   "cell_type": "code",
   "execution_count": 2,
   "id": "2cf933f2-b333-4bf6-a985-63ca965bd727",
   "metadata": {},
   "outputs": [],
   "source": [
    "from rics.logutils import basicConfig, logging\n",
    "\n",
    "basicConfig(level=logging.INFO, rics_log_level=logging.DEBUG)"
   ]
  },
  {
   "cell_type": "markdown",
   "id": "93a678fb-4a20-4598-80cf-80d269c07d7f",
   "metadata": {},
   "source": [
    "# Title: Template\n",
    "Short description of what we're testing. This is a template to copy for new stuff."
   ]
  },
  {
   "cell_type": "markdown",
   "id": "58a9c11e-2dbf-4015-bf60-2fca3f212e6b",
   "metadata": {
    "execution": {
     "iopub.execute_input": "2022-03-03T10:10:56.234978Z",
     "iopub.status.busy": "2022-03-03T10:10:56.234744Z",
     "iopub.status.idle": "2022-03-03T10:10:56.240364Z",
     "shell.execute_reply": "2022-03-03T10:10:56.239813Z",
     "shell.execute_reply.started": "2022-03-03T10:10:56.234954Z"
    }
   },
   "source": [
    "## Load data\n",
    "Load some representative data we need for testing (that doesn't change between test cases or candidates)."
   ]
  },
  {
   "cell_type": "code",
   "execution_count": 3,
   "id": "b44bfcee-98d3-4023-b13c-f4829cdd0963",
   "metadata": {
    "tags": []
   },
   "outputs": [],
   "source": [
    "import random\n",
    "\n",
    "test_data = random.choices(\n",
    "    [\n",
    "        0.000000,\n",
    "        0.000025,\n",
    "        # 0.000050,\n",
    "    ],\n",
    "    k=10_000,\n",
    ")"
   ]
  },
  {
   "cell_type": "markdown",
   "id": "a3470877-8315-4e06-8f7a-659aee949886",
   "metadata": {},
   "source": [
    "## Define the test procedure\n",
    "Define the test case we want to evaluate."
   ]
  },
  {
   "cell_type": "code",
   "execution_count": 4,
   "id": "d6c69687-5134-44e1-9769-64053e26361a",
   "metadata": {},
   "outputs": [],
   "source": [
    "def run(func):\n",
    "    for arg in test_data:\n",
    "        func(arg)"
   ]
  },
  {
   "cell_type": "markdown",
   "id": "d4e061bb-61b4-4ce4-a98b-0171705ad113",
   "metadata": {
    "execution": {
     "iopub.execute_input": "2022-03-03T10:11:05.782014Z",
     "iopub.status.busy": "2022-03-03T10:11:05.781233Z",
     "iopub.status.idle": "2022-03-03T10:11:05.786275Z",
     "shell.execute_reply": "2022-03-03T10:11:05.784947Z",
     "shell.execute_reply.started": "2022-03-03T10:11:05.781984Z"
    }
   },
   "source": [
    "## Define candidates\n",
    "Define the functions or classes we're testing. Add to `candidates` list."
   ]
  },
  {
   "cell_type": "code",
   "execution_count": 5,
   "id": "3c160078-f1a3-4582-850e-9296c3975214",
   "metadata": {
    "tags": []
   },
   "outputs": [],
   "source": [
    "import time\n",
    "\n",
    "\n",
    "def cand0(arg):\n",
    "    pass  # Ignore input\n",
    "    return \"foo\"\n",
    "\n",
    "\n",
    "def cand1(arg):\n",
    "    time.sleep(arg)  # Process input\n",
    "    return \"foo\"\n",
    "\n",
    "\n",
    "candidates = [cand0, cand1]"
   ]
  },
  {
   "cell_type": "markdown",
   "id": "39ce893f-3c51-464f-a6df-4ea76f5280f3",
   "metadata": {},
   "source": [
    "## Sample output and verification\n",
    "Output sample result, make sure candidates outpat equivalent values."
   ]
  },
  {
   "cell_type": "code",
   "execution_count": 6,
   "id": "d6701d06-6c46-406d-89ae-2a0033413e5c",
   "metadata": {
    "tags": []
   },
   "outputs": [
    {
     "name": "stdout",
     "output_type": "stream",
     "text": [
      "Reference output: foo\n"
     ]
    }
   ],
   "source": [
    "reference_output = candidates[0](test_data[0])\n",
    "assert reference_output is not None\n",
    "print(\"Reference output:\", reference_output)\n",
    "\n",
    "for cand in candidates[1:]:\n",
    "    cand_output = cand(test_data[0])\n",
    "    assert reference_output == cand_output, f\"Bad candidate: {cand}. {cand_output=} != {reference_output=}\""
   ]
  },
  {
   "cell_type": "markdown",
   "id": "d9a31c30-acf2-4890-b2d6-41fdde98adec",
   "metadata": {},
   "source": [
    "## Run perfomance comparison\n",
    "Do the comparison.\n",
    "\n",
    "The `%timeit` magic uses variable number of runs/loops by default (based on runtime). Specify using:\n",
    "```python\n",
    "%timeit -r <num-runs> -n <num-loops> run(cand0)\n",
    "%timeit run(cand0)\n",
    "%timeit -r 5 -n 10000 run(cand0)\n",
    "```\n",
    "Output:\n",
    "```bash\n",
    "528 µs ± 15.3 µs per loop (mean ± std. dev. of 7 runs, 1000 loops each)\n",
    "499 µs ± 12.4 µs per loop (mean ± std. dev. of 5 runs, 10000 loops each)\n",
    "``` "
   ]
  },
  {
   "cell_type": "code",
   "execution_count": 7,
   "id": "70f6320f-ba73-4cb4-bbe7-0cf28d1e56ae",
   "metadata": {
    "tags": []
   },
   "outputs": [],
   "source": [
    "from rics.utils import tname"
   ]
  },
  {
   "cell_type": "code",
   "execution_count": 8,
   "id": "adb5bf6b-7f0b-42ac-a1c5-1ccfab7c49c0",
   "metadata": {
    "tags": []
   },
   "outputs": [
    {
     "name": "stdout",
     "output_type": "stream",
     "text": [
      "cand0:\n",
      "497 µs ± 11.5 µs per loop (mean ± std. dev. of 7 runs, 1000 loops each)\n",
      "================================================================================\n",
      "cand1:\n",
      "1.53 s ± 117 ms per loop (mean ± std. dev. of 7 runs, 1 loop each)\n",
      "================================================================================\n"
     ]
    }
   ],
   "source": [
    "for cand in candidates:\n",
    "    print(f\"{tname(cand)}:\")\n",
    "    %timeit run(cand)\n",
    "    print(\"=\" * 80)"
   ]
  },
  {
   "cell_type": "markdown",
   "id": "e1b9464e-ac84-4184-8571-b19f51300c13",
   "metadata": {},
   "source": [
    "# Conclusion\n",
    "Short summary. Looks like doing nothing is faster than doing something."
   ]
  },
  {
   "cell_type": "code",
   "execution_count": null,
   "id": "c0c46af8-d46e-4f9b-8e37-579aa975e16f",
   "metadata": {},
   "outputs": [],
   "source": []
  }
 ],
 "metadata": {
  "kernelspec": {
   "display_name": "Python 3 (ipykernel)",
   "language": "python",
   "name": "python3"
  },
  "language_info": {
   "codemirror_mode": {
    "name": "ipython",
    "version": 3
   },
   "file_extension": ".py",
   "mimetype": "text/x-python",
   "name": "python",
   "nbconvert_exporter": "python",
   "pygments_lexer": "ipython3",
   "version": "3.8.10"
  }
 },
 "nbformat": 4,
 "nbformat_minor": 5
}
