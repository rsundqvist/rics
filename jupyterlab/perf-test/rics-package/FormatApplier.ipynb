{
 "cells": [
  {
   "cell_type": "code",
   "execution_count": 1,
   "id": "5c5d9357-02e9-47a1-b374-6d47d4866ce0",
   "metadata": {
    "tags": []
   },
   "outputs": [
    {
     "name": "stdout",
     "output_type": "stream",
     "text": [
      "rics.__version__='0.1.0'\n",
      "sys.version='3.8.10 (default, Nov 26 2021, 20:14:08) \\n[GCC 9.3.0]'\n",
      "\u001b[33m299dcc8\u001b[m\u001b[33m (\u001b[m\u001b[1;36mHEAD -> \u001b[m\u001b[1;32mid-translation\u001b[m\u001b[33m)\u001b[m Add docs and jupyterlab folder (perftest+demo)\n"
     ]
    }
   ],
   "source": [
    "import sys\n",
    "\n",
    "import rics\n",
    "\n",
    "# Print relevant versions\n",
    "print(f\"{rics.__version__=}\")\n",
    "print(f\"{sys.version=}\")\n",
    "!git log --pretty=oneline --abbrev-commit -1"
   ]
  },
  {
   "cell_type": "code",
   "execution_count": 2,
   "id": "3bacba8e-44c3-408f-974d-86095bc65451",
   "metadata": {},
   "outputs": [],
   "source": [
    "from rics.logutils import basicConfig, logging\n",
    "\n",
    "basicConfig(level=logging.INFO, rics_level=logging.DEBUG)"
   ]
  },
  {
   "cell_type": "markdown",
   "id": "664dd8cb-c344-4e93-ba55-6ca715a6acea",
   "metadata": {},
   "source": [
    "# Benchmarks for `FormatApplier` implementations"
   ]
  },
  {
   "cell_type": "code",
   "execution_count": 3,
   "id": "94a2aa06-444b-463e-8a7f-47c2260e86d2",
   "metadata": {},
   "outputs": [],
   "source": [
    "DATASET = \"name.basics\""
   ]
  },
  {
   "cell_type": "markdown",
   "id": "05994bda-bffa-423d-9dc3-ffaf9d0d1eca",
   "metadata": {},
   "source": [
    "## Load data"
   ]
  },
  {
   "cell_type": "code",
   "execution_count": null,
   "id": "3454ed7a-6d2d-4707-a8d6-df1b62c6d0a6",
   "metadata": {
    "tags": []
   },
   "outputs": [
    {
     "name": "stderr",
     "output_type": "stream",
     "text": [
      "/home/dev/git/private-rics/.venv/lib/python3.8/site-packages/tqdm/auto.py:22: TqdmWarning: IProgress not found. Please update jupyter and ipywidgets. See https://ipywidgets.readthedocs.io/en/stable/user_install.html\n",
      "  from .autonotebook import tqdm as notebook_tqdm\n",
      "2022-03-06T15:50:24.813 [rics.utils.get_local_or_remote:DEBUG] Local file path: '/home/dev/git/private-rics/jupyterlab/data-cache/name.basics.tsv.gz'.\n",
      "2022-03-06T15:50:24.813 [rics.utils.get_local_or_remote:DEBUG] Remote file path: 'https://datasets.imdbws.com/name.basics.tsv.gz'.\n",
      "2022-03-06T15:50:24.816 [rics.utils.get_local_or_remote:INFO] Local processed file path: '/home/dev/git/private-rics/jupyterlab/data-cache/clean_and_fix_ids/name.basics.tsv.pkl'.\n",
      "2022-03-06T15:50:24.817 [rics.utils.get_local_or_remote:INFO] Running <function clean_and_fix_ids at 0x7f34ae8778b0>..\n"
     ]
    }
   ],
   "source": [
    "%%time\n",
    "from data import load_imdb\n",
    "\n",
    "df, id_columns = load_imdb(dataset=DATASET)\n",
    "print(f\"{id_columns=}\")\n",
    "print(f\"{df.shape=}\")"
   ]
  },
  {
   "cell_type": "code",
   "execution_count": null,
   "id": "be5389bb-a705-4933-9b90-6f588189117a",
   "metadata": {},
   "outputs": [],
   "source": [
    "import tqdm\n",
    "\n",
    "tqdm.__version__"
   ]
  },
  {
   "cell_type": "code",
   "execution_count": null,
   "id": "c0b6d512-8964-409d-8055-5bbfaa0eac0f",
   "metadata": {},
   "outputs": [],
   "source": [
    "from typing import Dict\n",
    "\n",
    "from rics.translation.offline import DefaultFormatApplier, Format, FormatApplier, TranslationMap\n",
    "from rics.translation.offline.types import IdType, NameType, PlaceholdersDict, PlaceholdersTuple, TranslatedIds"
   ]
  },
  {
   "cell_type": "code",
   "execution_count": null,
   "id": "ec64e73d-609d-4c18-98c8-38fb67499652",
   "metadata": {
    "tags": []
   },
   "outputs": [],
   "source": [
    "fmt = Format(\"{id}:{name} (*{birthYear}†{deathYear}) | Profession: {primaryProfession}\")"
   ]
  },
  {
   "cell_type": "markdown",
   "id": "4319137b-8a26-41e9-b41c-030fa2ed6564",
   "metadata": {},
   "source": [
    "## Define the test procedure\n",
    "Force reinitialization every time; this is how the translator will usually do it."
   ]
  },
  {
   "cell_type": "code",
   "execution_count": null,
   "id": "47c0a55f-f8b8-4e52-b5d3-e897a99b0c20",
   "metadata": {},
   "outputs": [],
   "source": [
    "def run_translate(clazz, id_key) -> TranslatedIds:\n",
    "    tmap = TranslationMap(\n",
    "        {DATASET: df.rename(columns={id_key: \"id\", \"primaryName\": \"name\"})},\n",
    "        format_applier_type=clazz,  # Prepare data\n",
    "    )\n",
    "    return tmap[(DATASET, fmt)]  # Does the actual formatting"
   ]
  },
  {
   "cell_type": "markdown",
   "id": "ab630d86-32f9-451e-a2bc-1ca8cf104acc",
   "metadata": {},
   "source": [
    "## Define candidates"
   ]
  },
  {
   "cell_type": "code",
   "execution_count": null,
   "id": "9c1da467-9002-4876-ba4c-add3f66c9371",
   "metadata": {},
   "outputs": [],
   "source": [
    "import numpy as np\n",
    "import pandas as pd"
   ]
  },
  {
   "cell_type": "code",
   "execution_count": null,
   "id": "0a73fdba-c8c1-4335-a73e-fb683f3bb667",
   "metadata": {
    "tags": []
   },
   "outputs": [],
   "source": [
    "candidates = [DefaultFormatApplier]\n",
    "\n",
    "\n",
    "class BasicFormatApplier(FormatApplier):\n",
    "    def __init__(self, source: NameType, placeholders: PlaceholdersDict) -> None:\n",
    "        super().__init__(source, placeholders)\n",
    "        self._placeholders = placeholders\n",
    "\n",
    "    def _apply(self, fstring: str, placeholders: PlaceholdersTuple) -> TranslatedIds:\n",
    "        ids = self._placeholders[\"id\"]\n",
    "        p_list = tuple([self._placeholders[p] for p in placeholders])\n",
    "        return {idx: fstring.format(*row) for idx, row in zip(ids, zip(*p_list))}\n",
    "\n",
    "    @property\n",
    "    def positional(self) -> bool:\n",
    "        \"\"\"Positional-flag for the default applicator.\"\"\"\n",
    "        return True\n",
    "\n",
    "\n",
    "class NumpyFormatApplier(FormatApplier):\n",
    "    def __init__(self, source: NameType, placeholders: PlaceholdersDict) -> None:\n",
    "        super().__init__(source, placeholders)\n",
    "        self._ids = placeholders[\"id\"]\n",
    "        self._arr = np.array([placeholders[placeholder] for placeholder in self.placeholders], dtype=\"<U64\")\n",
    "\n",
    "    def _apply(self, fstring: str, placeholders: PlaceholdersTuple) -> TranslatedIds:\n",
    "        placeholder_idx = np.searchsorted(self._placeholder_names, placeholders)\n",
    "        # This might be where we lose time?\n",
    "        sliced = self._arr[placeholder_idx].T[:, :]\n",
    "        return {idx: fstring.format(*row) for idx, row in zip(self._ids, sliced)}\n",
    "\n",
    "    @property\n",
    "    def positional(self) -> bool:\n",
    "        return True\n",
    "\n",
    "\n",
    "class PandasFormatApplier(FormatApplier):\n",
    "    def __init__(self, source: NameType, placeholders: PlaceholdersDict) -> None:\n",
    "        super().__init__(source, placeholders)\n",
    "        self._df = pd.DataFrame.from_dict(placeholders)\n",
    "        self._df.index = self._df[\"id\"]\n",
    "        self._range = range(len(self._df.index))\n",
    "\n",
    "    def _apply(self, fstring: str, placeholders: PlaceholdersTuple) -> TranslatedIds:\n",
    "        def func(arg: pd.Series) -> str:\n",
    "            return fstring.format(*arg)\n",
    "\n",
    "        return self._df[list(placeholders)].apply(func, raw=True, axis=1)\n",
    "\n",
    "    @property\n",
    "    def positional(self) -> bool:\n",
    "        return True\n",
    "\n",
    "\n",
    "candidates.extend([BasicFormatApplier, NumpyFormatApplier, PandasFormatApplier])\n",
    "candidates"
   ]
  },
  {
   "cell_type": "markdown",
   "id": "4da58b85-2831-4251-bad5-2b9b5edaf7e2",
   "metadata": {},
   "source": [
    "## Sample output and verification"
   ]
  },
  {
   "cell_type": "code",
   "execution_count": null,
   "id": "e2848558-bc03-4d6d-bdaf-730691aa80e8",
   "metadata": {
    "tags": []
   },
   "outputs": [],
   "source": [
    "id_key = \"int_id_nconst\"\n",
    "reference = run_translate(DefaultFormatApplier, id_key)\n",
    "for t in reference.values():\n",
    "    print(f\"Total translations: {len(reference)}. Sample translation:\\n    {t}\")\n",
    "    break\n",
    "\n",
    "for cand in candidates:\n",
    "    cand_translations = run_translate(cand, id_key)\n",
    "    cmp = pd.Series(reference) == pd.Series(cand_translations)\n",
    "    assert cmp if isinstance(cmp, bool) else cmp.all(), f\"Bad candidate: {cand}\""
   ]
  },
  {
   "cell_type": "markdown",
   "id": "fe199bee-8fa0-4ca7-a547-0caec5aa5433",
   "metadata": {
    "tags": []
   },
   "source": [
    "## Run perfomance comparison"
   ]
  },
  {
   "cell_type": "code",
   "execution_count": null,
   "id": "c56ec038-9537-46e6-b110-e9e02e631df4",
   "metadata": {},
   "outputs": [],
   "source": [
    "from rics.utils import tname"
   ]
  },
  {
   "cell_type": "code",
   "execution_count": null,
   "id": "832e3db3-3ce4-49f9-b40b-ae62e0b19414",
   "metadata": {
    "tags": []
   },
   "outputs": [],
   "source": [
    "for cand in candidates:\n",
    "    print(f\"{tname(cand)}:\")\n",
    "    for id_key in [\"int_id_nconst\", \"str_id_nconst\"]:\n",
    "        print(f\"    {id_key=}\")\n",
    "        %timeit -r 5 -n 5 run_translate(cand, id_key)\n",
    "    print(\"=\" * 80)"
   ]
  },
  {
   "cell_type": "markdown",
   "id": "1da9e5d6-5da0-4bb7-ac05-a66456e5fac4",
   "metadata": {},
   "source": [
    "# Conclusion\n",
    "The `BasicFormatApplier` seems best choice *for this use case* (likely because it doesn't copy as much data?). There are certainly better ways to use both Pandas and numpy, but `BasicFormatApplier` has the added benefit and being easy to understand and requiring no external dependencies."
   ]
  },
  {
   "cell_type": "code",
   "execution_count": null,
   "id": "723804cd-3ce8-4ff9-ba53-63e7a3980e6d",
   "metadata": {},
   "outputs": [],
   "source": []
  }
 ],
 "metadata": {
  "kernelspec": {
   "display_name": "Python 3 (ipykernel)",
   "language": "python",
   "name": "python3"
  },
  "language_info": {
   "codemirror_mode": {
    "name": "ipython",
    "version": 3
   },
   "file_extension": ".py",
   "mimetype": "text/x-python",
   "name": "python",
   "nbconvert_exporter": "python",
   "pygments_lexer": "ipython3",
   "version": "3.8.10"
  }
 },
 "nbformat": 4,
 "nbformat_minor": 5
}
