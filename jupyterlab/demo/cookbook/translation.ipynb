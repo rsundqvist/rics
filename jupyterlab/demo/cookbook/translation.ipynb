{
 "cells": [
  {
   "cell_type": "markdown",
   "id": "93a678fb-4a20-4598-80cf-80d269c07d7f",
   "metadata": {},
   "source": [
    "# Translation\n",
    "A dummy fetcher that generates translation data is used."
   ]
  },
  {
   "cell_type": "code",
   "execution_count": 1,
   "id": "62173765-876a-4531-b099-2e78e7b81700",
   "metadata": {
    "execution": {
     "iopub.execute_input": "2022-07-23T14:43:42.276850Z",
     "iopub.status.busy": "2022-07-23T14:43:42.276544Z",
     "iopub.status.idle": "2022-07-23T14:43:46.004558Z",
     "shell.execute_reply": "2022-07-23T14:43:46.003154Z",
     "shell.execute_reply.started": "2022-07-23T14:43:42.276789Z"
    },
    "tags": []
   },
   "outputs": [
    {
     "name": "stderr",
     "output_type": "stream",
     "text": [
      "/home/dev/git/rics/src/rics/translation/_translator.py:156: UserWarning: No fetcher given. Translation data will be automatically generated.\n",
      "  warnings.warn(\"No fetcher given. Translation data will be automatically generated.\", UserWarning)\n"
     ]
    }
   ],
   "source": [
    "from rics.translation import Translator\n",
    "\n",
    "NAMES_TO_TRANSLATE = \"name\"\n",
    "translate = Translator(fmt=\"{x}, {y}\").translate"
   ]
  },
  {
   "cell_type": "markdown",
   "id": "16700ef6-8cb7-49e4-97c0-7e666d6b93e6",
   "metadata": {},
   "source": [
    "## Translating `dict` keys\n",
    "\n",
    "When translating using `inplace=False` (the default), the `Translator` will always try to return an object of the same type. \n",
    "The `Translator` doesn't know what to do with the `dict_keys` class, so we wrap the values we want to translate using a known type."
   ]
  },
  {
   "cell_type": "code",
   "execution_count": 2,
   "id": "bdce0756-5865-47ca-980d-ccc2af9a92ea",
   "metadata": {
    "execution": {
     "iopub.execute_input": "2022-07-23T14:43:46.008175Z",
     "iopub.status.busy": "2022-07-23T14:43:46.007747Z",
     "iopub.status.idle": "2022-07-23T14:43:46.029658Z",
     "shell.execute_reply": "2022-07-23T14:43:46.027378Z",
     "shell.execute_reply.started": "2022-07-23T14:43:46.008151Z"
    },
    "tags": []
   },
   "outputs": [
    {
     "name": "stdout",
     "output_type": "stream",
     "text": [
      "{'k0': 0, 'k1': 1, 'k2': 2, 'k3': 3}\n"
     ]
    },
    {
     "data": {
      "text/plain": [
       "{'x-of-k0, y-of-k0': 0,\n",
       " 'x-of-k1, y-of-k1': 1,\n",
       " 'x-of-k2, y-of-k2': 2,\n",
       " 'x-of-k3, y-of-k3': 3}"
      ]
     },
     "execution_count": 2,
     "metadata": {},
     "output_type": "execute_result"
    }
   ],
   "source": [
    "a_dict = {f\"k{i}\": i for i in range(4)}\n",
    "print(a_dict)\n",
    "\n",
    "translated_keys = translate(list(a_dict), names=NAMES_TO_TRANSLATE)\n",
    "{\n",
    "    tk: a_dict[k] for  # tk is translated\n",
    "    k, tk in zip(a_dict, translated_keys)\n",
    "}"
   ]
  },
  {
   "cell_type": "markdown",
   "id": "589afe77-fc51-40a6-9b33-15d5812b53e7",
   "metadata": {
    "execution": {
     "iopub.execute_input": "2022-07-23T14:02:24.050457Z",
     "iopub.status.busy": "2022-07-23T14:02:24.050140Z",
     "iopub.status.idle": "2022-07-23T14:02:24.060245Z",
     "shell.execute_reply": "2022-07-23T14:02:24.058355Z",
     "shell.execute_reply.started": "2022-07-23T14:02:24.050431Z"
    },
    "tags": []
   },
   "source": [
    "## Translating Pandas `index` and `columns`\n",
    "Recipies for translating involving `pandas` types. The only special case here is the `Index` type, which is immutable and thus cannot be translated inplace. We'll use some wrapper methods for this instead."
   ]
  },
  {
   "cell_type": "code",
   "execution_count": 3,
   "id": "aad0654a-a565-4fe3-9dab-ff7aece08c2c",
   "metadata": {
    "execution": {
     "iopub.execute_input": "2022-07-23T14:43:46.031122Z",
     "iopub.status.busy": "2022-07-23T14:43:46.030818Z",
     "iopub.status.idle": "2022-07-23T14:43:46.039453Z",
     "shell.execute_reply": "2022-07-23T14:43:46.038131Z",
     "shell.execute_reply.started": "2022-07-23T14:43:46.031098Z"
    },
    "tags": []
   },
   "outputs": [],
   "source": [
    "import pandas as pd\n",
    "from typing import Union\n",
    "\n",
    "\n",
    "def translate_index(data: Union[pd.Series, pd.DataFrame]) -> None:\n",
    "    \"\"\"Translate the index of a pandas ``Series`` or ``DataFrame``.\"\"\"\n",
    "    data.index = translate(data.index)\n",
    "\n",
    "\n",
    "def translate_columns(data: pd.DataFrame) -> None:\n",
    "    \"\"\"Translate the columns of a pandas ``DataFrame``.\"\"\"\n",
    "    data.columns = translate(data.columns)"
   ]
  },
  {
   "cell_type": "code",
   "execution_count": 4,
   "id": "243bf95c-6dbf-4fff-9f16-82b51e235670",
   "metadata": {
    "execution": {
     "iopub.execute_input": "2022-07-23T14:43:46.041930Z",
     "iopub.status.busy": "2022-07-23T14:43:46.041617Z",
     "iopub.status.idle": "2022-07-23T14:43:46.073557Z",
     "shell.execute_reply": "2022-07-23T14:43:46.069377Z",
     "shell.execute_reply.started": "2022-07-23T14:43:46.041905Z"
    },
    "tags": []
   },
   "outputs": [
    {
     "data": {
      "text/html": [
       "<div>\n",
       "<style scoped>\n",
       "    .dataframe tbody tr th:only-of-type {\n",
       "        vertical-align: middle;\n",
       "    }\n",
       "\n",
       "    .dataframe tbody tr th {\n",
       "        vertical-align: top;\n",
       "    }\n",
       "\n",
       "    .dataframe thead th {\n",
       "        text-align: right;\n",
       "    }\n",
       "</style>\n",
       "<table border=\"1\" class=\"dataframe\">\n",
       "  <thead>\n",
       "    <tr style=\"text-align: right;\">\n",
       "      <th></th>\n",
       "      <th>col0</th>\n",
       "      <th>col1</th>\n",
       "      <th>col2</th>\n",
       "      <th>col3</th>\n",
       "    </tr>\n",
       "    <tr>\n",
       "      <th>name</th>\n",
       "      <th></th>\n",
       "      <th></th>\n",
       "      <th></th>\n",
       "      <th></th>\n",
       "    </tr>\n",
       "  </thead>\n",
       "  <tbody>\n",
       "    <tr>\n",
       "      <th>idx0</th>\n",
       "      <td>00</td>\n",
       "      <td>01</td>\n",
       "      <td>02</td>\n",
       "      <td>03</td>\n",
       "    </tr>\n",
       "    <tr>\n",
       "      <th>idx1</th>\n",
       "      <td>10</td>\n",
       "      <td>11</td>\n",
       "      <td>12</td>\n",
       "      <td>13</td>\n",
       "    </tr>\n",
       "    <tr>\n",
       "      <th>idx2</th>\n",
       "      <td>20</td>\n",
       "      <td>21</td>\n",
       "      <td>22</td>\n",
       "      <td>23</td>\n",
       "    </tr>\n",
       "  </tbody>\n",
       "</table>\n",
       "</div>"
      ],
      "text/plain": [
       "     col0 col1 col2 col3\n",
       "name                    \n",
       "idx0   00   01   02   03\n",
       "idx1   10   11   12   13\n",
       "idx2   20   21   22   23"
      ]
     },
     "execution_count": 4,
     "metadata": {},
     "output_type": "execute_result"
    }
   ],
   "source": [
    "df = pd.DataFrame(\n",
    "    data=[[\"00\", \"01\", \"02\", \"03\"], [\"10\", \"11\", \"12\", \"13\"], [\"20\", \"21\", \"22\", \"23\"]],\n",
    "    columns=[f\"col{i}\" for i in range(4)],\n",
    "    index=[f\"idx{i}\" for i in range(3)],\n",
    ")\n",
    "df.index.name = NAMES_TO_TRANSLATE\n",
    "s = df.col0\n",
    "df"
   ]
  },
  {
   "cell_type": "code",
   "execution_count": 5,
   "id": "32dfe8f0-3ccb-4424-9f4b-12deacbe5a05",
   "metadata": {
    "execution": {
     "iopub.execute_input": "2022-07-23T14:43:46.075189Z",
     "iopub.status.busy": "2022-07-23T14:43:46.074871Z",
     "iopub.status.idle": "2022-07-23T14:43:46.109778Z",
     "shell.execute_reply": "2022-07-23T14:43:46.108704Z",
     "shell.execute_reply.started": "2022-07-23T14:43:46.075166Z"
    },
    "tags": []
   },
   "outputs": [
    {
     "data": {
      "text/html": [
       "<div>\n",
       "<style scoped>\n",
       "    .dataframe tbody tr th:only-of-type {\n",
       "        vertical-align: middle;\n",
       "    }\n",
       "\n",
       "    .dataframe tbody tr th {\n",
       "        vertical-align: top;\n",
       "    }\n",
       "\n",
       "    .dataframe thead th {\n",
       "        text-align: right;\n",
       "    }\n",
       "</style>\n",
       "<table border=\"1\" class=\"dataframe\">\n",
       "  <thead>\n",
       "    <tr style=\"text-align: right;\">\n",
       "      <th></th>\n",
       "      <th>x-of-col0, y-of-col0</th>\n",
       "      <th>x-of-col1, y-of-col1</th>\n",
       "      <th>x-of-col2, y-of-col2</th>\n",
       "      <th>x-of-col3, y-of-col3</th>\n",
       "    </tr>\n",
       "  </thead>\n",
       "  <tbody>\n",
       "    <tr>\n",
       "      <th>x-of-idx0, y-of-idx0</th>\n",
       "      <td>x-of-00, y-of-00</td>\n",
       "      <td>x-of-01, y-of-01</td>\n",
       "      <td>x-of-02, y-of-02</td>\n",
       "      <td>x-of-03, y-of-03</td>\n",
       "    </tr>\n",
       "    <tr>\n",
       "      <th>x-of-idx1, y-of-idx1</th>\n",
       "      <td>x-of-10, y-of-10</td>\n",
       "      <td>x-of-11, y-of-11</td>\n",
       "      <td>x-of-12, y-of-12</td>\n",
       "      <td>x-of-13, y-of-13</td>\n",
       "    </tr>\n",
       "    <tr>\n",
       "      <th>x-of-idx2, y-of-idx2</th>\n",
       "      <td>x-of-20, y-of-20</td>\n",
       "      <td>x-of-21, y-of-21</td>\n",
       "      <td>x-of-22, y-of-22</td>\n",
       "      <td>x-of-23, y-of-23</td>\n",
       "    </tr>\n",
       "  </tbody>\n",
       "</table>\n",
       "</div>"
      ],
      "text/plain": [
       "                     x-of-col0, y-of-col0 x-of-col1, y-of-col1  \\\n",
       "x-of-idx0, y-of-idx0     x-of-00, y-of-00     x-of-01, y-of-01   \n",
       "x-of-idx1, y-of-idx1     x-of-10, y-of-10     x-of-11, y-of-11   \n",
       "x-of-idx2, y-of-idx2     x-of-20, y-of-20     x-of-21, y-of-21   \n",
       "\n",
       "                     x-of-col2, y-of-col2 x-of-col3, y-of-col3  \n",
       "x-of-idx0, y-of-idx0     x-of-02, y-of-02     x-of-03, y-of-03  \n",
       "x-of-idx1, y-of-idx1     x-of-12, y-of-12     x-of-13, y-of-13  \n",
       "x-of-idx2, y-of-idx2     x-of-22, y-of-22     x-of-23, y-of-23  "
      ]
     },
     "execution_count": 5,
     "metadata": {},
     "output_type": "execute_result"
    }
   ],
   "source": [
    "translate_index(df)\n",
    "translate_columns(df)\n",
    "translate(df, inplace=True)\n",
    "df"
   ]
  },
  {
   "cell_type": "code",
   "execution_count": 6,
   "id": "a490bc87-871a-4040-9b98-0e7b230786ad",
   "metadata": {
    "execution": {
     "iopub.execute_input": "2022-07-23T14:43:46.112094Z",
     "iopub.status.busy": "2022-07-23T14:43:46.111001Z",
     "iopub.status.idle": "2022-07-23T14:43:46.126722Z",
     "shell.execute_reply": "2022-07-23T14:43:46.125758Z",
     "shell.execute_reply.started": "2022-07-23T14:43:46.112061Z"
    },
    "tags": []
   },
   "outputs": [
    {
     "data": {
      "text/plain": [
       "x-of-idx0, y-of-idx0    x-of-00, y-of-00\n",
       "x-of-idx1, y-of-idx1    x-of-10, y-of-10\n",
       "x-of-idx2, y-of-idx2    x-of-20, y-of-20\n",
       "Name: col0, dtype: object"
      ]
     },
     "execution_count": 6,
     "metadata": {},
     "output_type": "execute_result"
    }
   ],
   "source": [
    "translate_index(s)\n",
    "translate(s, inplace=True)\n",
    "s"
   ]
  },
  {
   "cell_type": "code",
   "execution_count": null,
   "id": "0aa90a13-584b-4e74-b679-704dae7338a7",
   "metadata": {},
   "outputs": [],
   "source": []
  }
 ],
 "metadata": {
  "kernelspec": {
   "display_name": "Python 3 (ipykernel)",
   "language": "python",
   "name": "python3"
  },
  "language_info": {
   "codemirror_mode": {
    "name": "ipython",
    "version": 3
   },
   "file_extension": ".py",
   "mimetype": "text/x-python",
   "name": "python",
   "nbconvert_exporter": "python",
   "pygments_lexer": "ipython3",
   "version": "3.9.12"
  }
 },
 "nbformat": 4,
 "nbformat_minor": 5
}
