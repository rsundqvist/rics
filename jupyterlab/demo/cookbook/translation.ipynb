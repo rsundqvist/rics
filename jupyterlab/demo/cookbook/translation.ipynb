{
 "cells": [
  {
   "cell_type": "markdown",
   "id": "93a678fb-4a20-4598-80cf-80d269c07d7f",
   "metadata": {},
   "source": [
    "# Translation\n",
    "For convenience, we'll use a dummy fetcher used for [testing](https://github.com/rsundqvist/rics/blob/master/src/rics/translation/testing.py) to generates translation data instead of fetching real translations. Generated data is on the form `<placeholder-name>-of-<id>`, eg `'placeholder0-of-id0'`. Since we use the `'{x}, {y}'` translation format, all translated values will take form form `'x-of-<id>, y-of-<id>'`."
   ]
  },
  {
   "cell_type": "code",
   "execution_count": 1,
   "id": "62173765-876a-4531-b099-2e78e7b81700",
   "metadata": {
    "execution": {
     "iopub.execute_input": "2022-07-23T20:05:35.719377Z",
     "iopub.status.busy": "2022-07-23T20:05:35.719057Z",
     "iopub.status.idle": "2022-07-23T20:05:37.234366Z",
     "shell.execute_reply": "2022-07-23T20:05:37.233061Z",
     "shell.execute_reply.started": "2022-07-23T20:05:35.719306Z"
    },
    "tags": []
   },
   "outputs": [
    {
     "name": "stderr",
     "output_type": "stream",
     "text": [
      "/home/dev/git/rics/src/rics/translation/_translator.py:156: UserWarning: No fetcher given. Translation data will be automatically generated.\n",
      "  warnings.warn(\"No fetcher given. Translation data will be automatically generated.\", UserWarning, stacklevel=-1)\n"
     ]
    }
   ],
   "source": [
    "from rics.translation import Translator\n",
    "\n",
    "NAMES_TO_TRANSLATE = \"name\"\n",
    "translate = Translator(fmt=\"{x}, {y}\").translate"
   ]
  },
  {
   "cell_type": "markdown",
   "id": "16700ef6-8cb7-49e4-97c0-7e666d6b93e6",
   "metadata": {},
   "source": [
    "## Translating `dict` keys\n",
    "\n",
    "When translating using `inplace=False` (the default), the `Translator` will always try to return an object of the same type. \n",
    "The `Translator` doesn't know what to do with the `dict_keys` class, so we wrap the values we want to translate using a known type."
   ]
  },
  {
   "cell_type": "code",
   "execution_count": 2,
   "id": "bdce0756-5865-47ca-980d-ccc2af9a92ea",
   "metadata": {
    "execution": {
     "iopub.execute_input": "2022-07-23T20:05:37.241068Z",
     "iopub.status.busy": "2022-07-23T20:05:37.239448Z",
     "iopub.status.idle": "2022-07-23T20:05:37.258083Z",
     "shell.execute_reply": "2022-07-23T20:05:37.257414Z",
     "shell.execute_reply.started": "2022-07-23T20:05:37.241038Z"
    },
    "tags": []
   },
   "outputs": [
    {
     "name": "stdout",
     "output_type": "stream",
     "text": [
      "{'k0': 0, 'k1': 1, 'k2': 2, 'k3': 3}\n"
     ]
    },
    {
     "data": {
      "text/plain": [
       "{'x-of-k0, y-of-k0': 0,\n",
       " 'x-of-k1, y-of-k1': 1,\n",
       " 'x-of-k2, y-of-k2': 2,\n",
       " 'x-of-k3, y-of-k3': 3}"
      ]
     },
     "execution_count": 2,
     "metadata": {},
     "output_type": "execute_result"
    }
   ],
   "source": [
    "a_dict = {f\"k{i}\": i for i in range(4)}\n",
    "print(a_dict)\n",
    "\n",
    "translated_keys = translate(list(a_dict), names=NAMES_TO_TRANSLATE)\n",
    "{tk: a_dict[k] for k, tk in zip(a_dict, translated_keys)}  # tk is translated"
   ]
  },
  {
   "cell_type": "markdown",
   "id": "589afe77-fc51-40a6-9b33-15d5812b53e7",
   "metadata": {
    "execution": {
     "iopub.execute_input": "2022-07-23T14:02:24.050457Z",
     "iopub.status.busy": "2022-07-23T14:02:24.050140Z",
     "iopub.status.idle": "2022-07-23T14:02:24.060245Z",
     "shell.execute_reply": "2022-07-23T14:02:24.058355Z",
     "shell.execute_reply.started": "2022-07-23T14:02:24.050431Z"
    },
    "tags": []
   },
   "source": [
    "## Translating Pandas `index` and `columns`\n",
    "Recipies for translating involving `pandas` types. \n",
    "\n",
    "The `attribute` argument may be used to translate a member variable instead."
   ]
  },
  {
   "cell_type": "code",
   "execution_count": 3,
   "id": "aad0654a-a565-4fe3-9dab-ff7aece08c2c",
   "metadata": {
    "execution": {
     "iopub.execute_input": "2022-07-23T20:05:37.260989Z",
     "iopub.status.busy": "2022-07-23T20:05:37.259183Z",
     "iopub.status.idle": "2022-07-23T20:05:37.264610Z",
     "shell.execute_reply": "2022-07-23T20:05:37.263834Z",
     "shell.execute_reply.started": "2022-07-23T20:05:37.260959Z"
    },
    "tags": []
   },
   "outputs": [],
   "source": [
    "import pandas as pd"
   ]
  },
  {
   "cell_type": "code",
   "execution_count": 4,
   "id": "243bf95c-6dbf-4fff-9f16-82b51e235670",
   "metadata": {
    "execution": {
     "iopub.execute_input": "2022-07-23T20:05:37.266438Z",
     "iopub.status.busy": "2022-07-23T20:05:37.265598Z",
     "iopub.status.idle": "2022-07-23T20:05:37.279462Z",
     "shell.execute_reply": "2022-07-23T20:05:37.278251Z",
     "shell.execute_reply.started": "2022-07-23T20:05:37.266404Z"
    },
    "tags": []
   },
   "outputs": [
    {
     "data": {
      "text/html": [
       "<div>\n",
       "<style scoped>\n",
       "    .dataframe tbody tr th:only-of-type {\n",
       "        vertical-align: middle;\n",
       "    }\n",
       "\n",
       "    .dataframe tbody tr th {\n",
       "        vertical-align: top;\n",
       "    }\n",
       "\n",
       "    .dataframe thead th {\n",
       "        text-align: right;\n",
       "    }\n",
       "</style>\n",
       "<table border=\"1\" class=\"dataframe\">\n",
       "  <thead>\n",
       "    <tr style=\"text-align: right;\">\n",
       "      <th></th>\n",
       "      <th>col0</th>\n",
       "      <th>col1</th>\n",
       "      <th>col2</th>\n",
       "      <th>col3</th>\n",
       "    </tr>\n",
       "    <tr>\n",
       "      <th>name</th>\n",
       "      <th></th>\n",
       "      <th></th>\n",
       "      <th></th>\n",
       "      <th></th>\n",
       "    </tr>\n",
       "  </thead>\n",
       "  <tbody>\n",
       "    <tr>\n",
       "      <th>idx0</th>\n",
       "      <td>00</td>\n",
       "      <td>01</td>\n",
       "      <td>02</td>\n",
       "      <td>03</td>\n",
       "    </tr>\n",
       "    <tr>\n",
       "      <th>idx1</th>\n",
       "      <td>10</td>\n",
       "      <td>11</td>\n",
       "      <td>12</td>\n",
       "      <td>13</td>\n",
       "    </tr>\n",
       "    <tr>\n",
       "      <th>idx2</th>\n",
       "      <td>20</td>\n",
       "      <td>21</td>\n",
       "      <td>22</td>\n",
       "      <td>23</td>\n",
       "    </tr>\n",
       "  </tbody>\n",
       "</table>\n",
       "</div>"
      ],
      "text/plain": [
       "     col0 col1 col2 col3\n",
       "name                    \n",
       "idx0   00   01   02   03\n",
       "idx1   10   11   12   13\n",
       "idx2   20   21   22   23"
      ]
     },
     "execution_count": 4,
     "metadata": {},
     "output_type": "execute_result"
    }
   ],
   "source": [
    "df = pd.DataFrame(\n",
    "    data=[[\"00\", \"01\", \"02\", \"03\"], [\"10\", \"11\", \"12\", \"13\"], [\"20\", \"21\", \"22\", \"23\"]],\n",
    "    columns=[f\"col{i}\" for i in range(4)],\n",
    "    index=[f\"idx{i}\" for i in range(3)],\n",
    ")\n",
    "df.index.name = NAMES_TO_TRANSLATE\n",
    "s = df.col0\n",
    "df"
   ]
  },
  {
   "cell_type": "code",
   "execution_count": 5,
   "id": "32dfe8f0-3ccb-4424-9f4b-12deacbe5a05",
   "metadata": {
    "execution": {
     "iopub.execute_input": "2022-07-23T20:05:37.281476Z",
     "iopub.status.busy": "2022-07-23T20:05:37.280650Z",
     "iopub.status.idle": "2022-07-23T20:05:37.309840Z",
     "shell.execute_reply": "2022-07-23T20:05:37.308958Z",
     "shell.execute_reply.started": "2022-07-23T20:05:37.281446Z"
    },
    "tags": []
   },
   "outputs": [
    {
     "data": {
      "text/html": [
       "<div>\n",
       "<style scoped>\n",
       "    .dataframe tbody tr th:only-of-type {\n",
       "        vertical-align: middle;\n",
       "    }\n",
       "\n",
       "    .dataframe tbody tr th {\n",
       "        vertical-align: top;\n",
       "    }\n",
       "\n",
       "    .dataframe thead th {\n",
       "        text-align: right;\n",
       "    }\n",
       "</style>\n",
       "<table border=\"1\" class=\"dataframe\">\n",
       "  <thead>\n",
       "    <tr style=\"text-align: right;\">\n",
       "      <th></th>\n",
       "      <th>x-of-col0, y-of-col0</th>\n",
       "      <th>x-of-col1, y-of-col1</th>\n",
       "      <th>x-of-col2, y-of-col2</th>\n",
       "      <th>x-of-col3, y-of-col3</th>\n",
       "    </tr>\n",
       "    <tr>\n",
       "      <th>name</th>\n",
       "      <th></th>\n",
       "      <th></th>\n",
       "      <th></th>\n",
       "      <th></th>\n",
       "    </tr>\n",
       "  </thead>\n",
       "  <tbody>\n",
       "    <tr>\n",
       "      <th>x-of-idx0, y-of-idx0</th>\n",
       "      <td>x-of-00, y-of-00</td>\n",
       "      <td>x-of-01, y-of-01</td>\n",
       "      <td>x-of-02, y-of-02</td>\n",
       "      <td>x-of-03, y-of-03</td>\n",
       "    </tr>\n",
       "    <tr>\n",
       "      <th>x-of-idx1, y-of-idx1</th>\n",
       "      <td>x-of-10, y-of-10</td>\n",
       "      <td>x-of-11, y-of-11</td>\n",
       "      <td>x-of-12, y-of-12</td>\n",
       "      <td>x-of-13, y-of-13</td>\n",
       "    </tr>\n",
       "    <tr>\n",
       "      <th>x-of-idx2, y-of-idx2</th>\n",
       "      <td>x-of-20, y-of-20</td>\n",
       "      <td>x-of-21, y-of-21</td>\n",
       "      <td>x-of-22, y-of-22</td>\n",
       "      <td>x-of-23, y-of-23</td>\n",
       "    </tr>\n",
       "  </tbody>\n",
       "</table>\n",
       "</div>"
      ],
      "text/plain": [
       "                     x-of-col0, y-of-col0 x-of-col1, y-of-col1  \\\n",
       "name                                                             \n",
       "x-of-idx0, y-of-idx0     x-of-00, y-of-00     x-of-01, y-of-01   \n",
       "x-of-idx1, y-of-idx1     x-of-10, y-of-10     x-of-11, y-of-11   \n",
       "x-of-idx2, y-of-idx2     x-of-20, y-of-20     x-of-21, y-of-21   \n",
       "\n",
       "                     x-of-col2, y-of-col2 x-of-col3, y-of-col3  \n",
       "name                                                            \n",
       "x-of-idx0, y-of-idx0     x-of-02, y-of-02     x-of-03, y-of-03  \n",
       "x-of-idx1, y-of-idx1     x-of-12, y-of-12     x-of-13, y-of-13  \n",
       "x-of-idx2, y-of-idx2     x-of-22, y-of-22     x-of-23, y-of-23  "
      ]
     },
     "execution_count": 5,
     "metadata": {},
     "output_type": "execute_result"
    }
   ],
   "source": [
    "translate(df, inplace=True)\n",
    "translate(df, attribute=\"columns\")  # Returns df after overwriting df.columns\n",
    "translate(df, attribute=\"index\")  # Returns df after overwriting df.index"
   ]
  },
  {
   "cell_type": "code",
   "execution_count": 6,
   "id": "a490bc87-871a-4040-9b98-0e7b230786ad",
   "metadata": {
    "execution": {
     "iopub.execute_input": "2022-07-23T20:05:37.312888Z",
     "iopub.status.busy": "2022-07-23T20:05:37.311687Z",
     "iopub.status.idle": "2022-07-23T20:05:37.324634Z",
     "shell.execute_reply": "2022-07-23T20:05:37.323868Z",
     "shell.execute_reply.started": "2022-07-23T20:05:37.312856Z"
    },
    "tags": []
   },
   "outputs": [
    {
     "data": {
      "text/plain": [
       "name\n",
       "x-of-idx0, y-of-idx0    x-of-00, y-of-00\n",
       "x-of-idx1, y-of-idx1    x-of-10, y-of-10\n",
       "x-of-idx2, y-of-idx2    x-of-20, y-of-20\n",
       "Name: col0, dtype: object"
      ]
     },
     "execution_count": 6,
     "metadata": {},
     "output_type": "execute_result"
    }
   ],
   "source": [
    "translate(s, inplace=True)\n",
    "translate(s, attribute=\"index\")"
   ]
  },
  {
   "cell_type": "markdown",
   "id": "decf5395-4a32-4821-ad46-56ea0e290704",
   "metadata": {},
   "source": [
    "# Function signature"
   ]
  },
  {
   "cell_type": "code",
   "execution_count": 7,
   "id": "3c3f20e7-d621-462b-a1f6-1bc3c809d8f0",
   "metadata": {
    "execution": {
     "iopub.execute_input": "2022-07-23T20:05:37.327647Z",
     "iopub.status.busy": "2022-07-23T20:05:37.326751Z",
     "iopub.status.idle": "2022-07-23T20:05:37.374476Z",
     "shell.execute_reply": "2022-07-23T20:05:37.373448Z",
     "shell.execute_reply.started": "2022-07-23T20:05:37.327617Z"
    }
   },
   "outputs": [
    {
     "data": {
      "text/plain": [
       "\u001b[0;31mSignature:\u001b[0m\n",
       "\u001b[0mtranslate\u001b[0m\u001b[0;34m(\u001b[0m\u001b[0;34m\u001b[0m\n",
       "\u001b[0;34m\u001b[0m    \u001b[0mtranslatable\u001b[0m\u001b[0;34m:\u001b[0m \u001b[0;34m~\u001b[0m\u001b[0mTranslatable\u001b[0m\u001b[0;34m,\u001b[0m\u001b[0;34m\u001b[0m\n",
       "\u001b[0;34m\u001b[0m    \u001b[0mnames\u001b[0m\u001b[0;34m:\u001b[0m \u001b[0mUnion\u001b[0m\u001b[0;34m[\u001b[0m\u001b[0;34m~\u001b[0m\u001b[0mNameType\u001b[0m\u001b[0;34m,\u001b[0m \u001b[0mIterable\u001b[0m\u001b[0;34m[\u001b[0m\u001b[0;34m~\u001b[0m\u001b[0mNameType\u001b[0m\u001b[0;34m]\u001b[0m\u001b[0;34m]\u001b[0m \u001b[0;34m=\u001b[0m \u001b[0;32mNone\u001b[0m\u001b[0;34m,\u001b[0m\u001b[0;34m\u001b[0m\n",
       "\u001b[0;34m\u001b[0m    \u001b[0mignore_names\u001b[0m\u001b[0;34m:\u001b[0m \u001b[0mUnion\u001b[0m\u001b[0;34m[\u001b[0m\u001b[0;34m~\u001b[0m\u001b[0mNameType\u001b[0m\u001b[0;34m,\u001b[0m \u001b[0mIterable\u001b[0m\u001b[0;34m[\u001b[0m\u001b[0;34m~\u001b[0m\u001b[0mNameType\u001b[0m\u001b[0;34m]\u001b[0m\u001b[0;34m,\u001b[0m \u001b[0mCallable\u001b[0m\u001b[0;34m[\u001b[0m\u001b[0;34m[\u001b[0m\u001b[0;34m~\u001b[0m\u001b[0mNameType\u001b[0m\u001b[0;34m]\u001b[0m\u001b[0;34m,\u001b[0m \u001b[0mbool\u001b[0m\u001b[0;34m]\u001b[0m\u001b[0;34m]\u001b[0m \u001b[0;34m=\u001b[0m \u001b[0;32mNone\u001b[0m\u001b[0;34m,\u001b[0m\u001b[0;34m\u001b[0m\n",
       "\u001b[0;34m\u001b[0m    \u001b[0minplace\u001b[0m\u001b[0;34m:\u001b[0m \u001b[0mbool\u001b[0m \u001b[0;34m=\u001b[0m \u001b[0;32mFalse\u001b[0m\u001b[0;34m,\u001b[0m\u001b[0;34m\u001b[0m\n",
       "\u001b[0;34m\u001b[0m    \u001b[0moverride_function\u001b[0m\u001b[0;34m:\u001b[0m \u001b[0mCallable\u001b[0m\u001b[0;34m[\u001b[0m\u001b[0;34m[\u001b[0m\u001b[0;34m~\u001b[0m\u001b[0mNameType\u001b[0m\u001b[0;34m,\u001b[0m \u001b[0mSet\u001b[0m\u001b[0;34m[\u001b[0m\u001b[0;34m~\u001b[0m\u001b[0mSourceType\u001b[0m\u001b[0;34m]\u001b[0m\u001b[0;34m,\u001b[0m \u001b[0mList\u001b[0m\u001b[0;34m[\u001b[0m\u001b[0;34m~\u001b[0m\u001b[0mIdType\u001b[0m\u001b[0;34m]\u001b[0m\u001b[0;34m]\u001b[0m\u001b[0;34m,\u001b[0m \u001b[0mUnion\u001b[0m\u001b[0;34m[\u001b[0m\u001b[0;34m~\u001b[0m\u001b[0mSourceType\u001b[0m\u001b[0;34m,\u001b[0m \u001b[0mDict\u001b[0m\u001b[0;34m[\u001b[0m\u001b[0;34m~\u001b[0m\u001b[0mSourceType\u001b[0m\u001b[0;34m,\u001b[0m \u001b[0mList\u001b[0m\u001b[0;34m[\u001b[0m\u001b[0;34m~\u001b[0m\u001b[0mIdType\u001b[0m\u001b[0;34m]\u001b[0m\u001b[0;34m]\u001b[0m\u001b[0;34m,\u001b[0m \u001b[0mNoneType\u001b[0m\u001b[0;34m]\u001b[0m\u001b[0;34m]\u001b[0m \u001b[0;34m=\u001b[0m \u001b[0;32mNone\u001b[0m\u001b[0;34m,\u001b[0m\u001b[0;34m\u001b[0m\n",
       "\u001b[0;34m\u001b[0m    \u001b[0mmaximal_untranslated_fraction\u001b[0m\u001b[0;34m:\u001b[0m \u001b[0mfloat\u001b[0m \u001b[0;34m=\u001b[0m \u001b[0;36m1.0\u001b[0m\u001b[0;34m,\u001b[0m\u001b[0;34m\u001b[0m\n",
       "\u001b[0;34m\u001b[0m    \u001b[0mreverse\u001b[0m\u001b[0;34m:\u001b[0m \u001b[0mbool\u001b[0m \u001b[0;34m=\u001b[0m \u001b[0;32mFalse\u001b[0m\u001b[0;34m,\u001b[0m\u001b[0;34m\u001b[0m\n",
       "\u001b[0;34m\u001b[0m    \u001b[0mattribute\u001b[0m\u001b[0;34m:\u001b[0m \u001b[0mstr\u001b[0m \u001b[0;34m=\u001b[0m \u001b[0;32mNone\u001b[0m\u001b[0;34m,\u001b[0m\u001b[0;34m\u001b[0m\n",
       "\u001b[0;34m\u001b[0m\u001b[0;34m)\u001b[0m \u001b[0;34m->\u001b[0m \u001b[0mOptional\u001b[0m\u001b[0;34m[\u001b[0m\u001b[0;34m~\u001b[0m\u001b[0mTranslatable\u001b[0m\u001b[0;34m]\u001b[0m\u001b[0;34m\u001b[0m\u001b[0;34m\u001b[0m\u001b[0m\n",
       "\u001b[0;31mDocstring:\u001b[0m\n",
       "Translate IDs to human-readable strings.\n",
       "\n",
       "Args:\n",
       "    translatable: A data structure to translate.\n",
       "    names: Explicit names to translate. Derive from `translatable` if ``None``.\n",
       "    ignore_names: Names **not** to translate, or a predicate ``(str) -> bool``.\n",
       "    inplace: If ``True``, translate in-place and return ``None``.\n",
       "    override_function: A callable ``(value, candidates, ids)`` returning one of\n",
       "\n",
       "        * ``None`` (use regular mapping logic)\n",
       "        * a ``source`` to use, or\n",
       "        * a split mapping ``{source: [ids_for_source..]}``. This forces IDs to be fetched from\n",
       "          different sources in spite of being labelled with the same name.\n",
       "\n",
       "    maximal_untranslated_fraction: The maximum fraction of IDs for which translation may fail before an error is\n",
       "        raised. 1=disabled. Ignored in `reverse` mode.\n",
       "    reverse: If ``True``, perform translations back to IDs. Offline mode only.\n",
       "    attribute: If given, translate ``translatable.attribute`` instead. If ``inplace=False``, the translated\n",
       "        attribute will be assigned to `translatable` using\n",
       "        ``setattr(translatable, attribute, <translated-attribute>)``.\n",
       "\n",
       "Returns:\n",
       "    A copy of translated copy of `translatable` if ``inplace=False``, otherwise ``None``.\n",
       "\n",
       "Raises:\n",
       "    UntranslatableTypeError: If ``type(translatable)`` cannot be translated.\n",
       "    AttributeError: If `names` are not given and cannot be derived from `translatable`.\n",
       "    MappingError: If required (explicitly given) names fail to map to a source.\n",
       "    ValueError: If `maximal_untranslated_fraction` is not a valid fraction.\n",
       "    TooManyFailedTranslationsError: If translation fails for more than `maximal_untranslated_fraction` of IDs.\n",
       "    ConnectionStatusError: If ``reverse=True`` while the ``Translator`` is online.\n",
       "    UnknownSourceError: If `override_function` returns a source which is not known.\n",
       "\n",
       "See Also:\n",
       "    The :meth:`.Mapper.apply` function, which performs both placeholder and name-to-source mapping.\n",
       "\u001b[0;31mFile:\u001b[0m      ~/git/rics/src/rics/translation/_translator.py\n",
       "\u001b[0;31mType:\u001b[0m      method\n"
      ]
     },
     "metadata": {},
     "output_type": "display_data"
    }
   ],
   "source": [
    "?translate"
   ]
  },
  {
   "cell_type": "code",
   "execution_count": null,
   "id": "0aa90a13-584b-4e74-b679-704dae7338a7",
   "metadata": {},
   "outputs": [],
   "source": []
  }
 ],
 "metadata": {
  "kernelspec": {
   "display_name": "Python 3 (ipykernel)",
   "language": "python",
   "name": "python3"
  },
  "language_info": {
   "codemirror_mode": {
    "name": "ipython",
    "version": 3
   },
   "file_extension": ".py",
   "mimetype": "text/x-python",
   "name": "python",
   "nbconvert_exporter": "python",
   "pygments_lexer": "ipython3",
   "version": "3.9.12"
  }
 },
 "nbformat": 4,
 "nbformat_minor": 5
}
